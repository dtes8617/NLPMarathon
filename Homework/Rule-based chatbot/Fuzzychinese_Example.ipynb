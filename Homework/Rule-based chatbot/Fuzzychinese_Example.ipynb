{
 "cells": [
  {
   "cell_type": "markdown",
   "metadata": {},
   "source": [
    "# FuzzyChinese 應用及實作\n",
    "\n",
    "為了更了解課程提到的 FuzzyChinese 套件，依據 [Github](https://github.com/znwang25/fuzzychinese) 進行實作及測試，並應用於現實場景。"
   ]
  },
  {
   "cell_type": "code",
   "execution_count": 1,
   "metadata": {},
   "outputs": [
    {
     "name": "stdout",
     "output_type": "stream",
     "text": [
      "Collecting fuzzychinese\n",
      "  Downloading fuzzychinese-0.1.5-py3-none-any.whl (302 kB)\n",
      "Installing collected packages: fuzzychinese\n",
      "Successfully installed fuzzychinese-0.1.5\n"
     ]
    }
   ],
   "source": [
    "# 安裝 fuzzychinese\n",
    "!pip install fuzzychinese"
   ]
  },
  {
   "cell_type": "code",
   "execution_count": 2,
   "metadata": {},
   "outputs": [],
   "source": [
    "# 載入套件\n",
    "from fuzzychinese import FuzzyChineseMatch\n",
    "\n",
    "fcm = FuzzyChineseMatch()"
   ]
  },
  {
   "cell_type": "markdown",
   "metadata": {},
   "source": [
    "由說明文件我們可以得知此函數主要有兩個參數，分別是 `ngram_range` 及 `analyzer`，第一個就是往前往後幾個字元內作為參考依據，第二個則是作為相似度的依據：筆劃分析(stroke)，部首分析(radical)，和單字分析(char)。\n",
    "\n",
    "為了進一步了解分析方法，我們可以調用函數出來比較。"
   ]
  },
  {
   "cell_type": "code",
   "execution_count": 1,
   "metadata": {},
   "outputs": [],
   "source": [
    "from fuzzychinese import Radical, Stroke"
   ]
  },
  {
   "cell_type": "code",
   "execution_count": 2,
   "metadata": {},
   "outputs": [],
   "source": [
    "stroke = Stroke()\n",
    "radical = Radical()"
   ]
  },
  {
   "cell_type": "code",
   "execution_count": 3,
   "metadata": {},
   "outputs": [
    {
     "data": {
      "text/plain": [
       "'㇒一㇚㇀㇂㇒㇔'"
      ]
     },
     "execution_count": 3,
     "metadata": {},
     "output_type": "execute_result"
    }
   ],
   "source": [
    "stroke.get_stroke('我')"
   ]
  },
  {
   "cell_type": "code",
   "execution_count": 4,
   "metadata": {},
   "outputs": [
    {
     "data": {
      "text/plain": [
       "'手戈'"
      ]
     },
     "execution_count": 4,
     "metadata": {},
     "output_type": "execute_result"
    }
   ],
   "source": [
    "radical.get_radical('我')"
   ]
  }
 ],
 "metadata": {
  "kernelspec": {
   "display_name": "Python 3",
   "language": "python",
   "name": "python3"
  },
  "language_info": {
   "codemirror_mode": {
    "name": "ipython",
    "version": 3
   },
   "file_extension": ".py",
   "mimetype": "text/x-python",
   "name": "python",
   "nbconvert_exporter": "python",
   "pygments_lexer": "ipython3",
   "version": "3.7.6"
  }
 },
 "nbformat": 4,
 "nbformat_minor": 4
}
