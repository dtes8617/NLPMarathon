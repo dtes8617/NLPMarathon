{
 "cells": [
  {
   "cell_type": "markdown",
   "metadata": {
    "id": "MY3gNbyPlLEs"
   },
   "source": [
    "# 0.匯入套件"
   ]
  },
  {
   "cell_type": "code",
   "execution_count": 1,
   "metadata": {
    "id": "llaVB_AVlLEx"
   },
   "outputs": [],
   "source": [
    "import random\n",
    "import requests"
   ]
  },
  {
   "cell_type": "markdown",
   "metadata": {
    "id": "lDEcsJjHlLEy"
   },
   "source": [
    "# 1.閒聊問答實作"
   ]
  },
  {
   "cell_type": "markdown",
   "metadata": {
    "id": "-sTNL0OPlLEy"
   },
   "source": [
    "## 1-1.自定義 Q&A"
   ]
  },
  {
   "cell_type": "code",
   "execution_count": 2,
   "metadata": {
    "id": "CxGC-0QplLEy"
   },
   "outputs": [],
   "source": [
    "greating = \"你是誰\"\n",
    "to_girl = [(\"請管好你的嘴\",\"為什麼\",\"因為我會隨時親你\"),\n",
    "           (\"你單身多久了\",\"一年多了\",\"對不起，讓你等了這麼久\"),\n",
    "           (\"我真的是太笨了\",\"怎麼啦\",\"除了喜歡你，其它什麼都做不好\")]\n",
    "\n",
    "\n",
    "def get_cutomize_ans(query):\n",
    "    # 完全比對\n",
    "    if query == greating:\n",
    "        return \"我是你的助理! 我可以陪你聊天喔~\"\n",
    "\n",
    "    # 部分比對\n",
    "    elif \"撩妹\" in query:\n",
    "        return str(random.choice(to_girl))\n",
    "\n",
    "    # 模糊比對-1\n",
    "    elif \"台北\" in query and \"景點\" in query:\n",
    "        return \"有101, 中正紀念堂還可以去爬象山喔!\"\n",
    "    \n",
    "    elif any(i in query for i in \"台北 台北市 台灣首都 天龍國\".split()):\n",
    "        if any(j in query for j in \"手搖飲料店 珍奶店 飲料店\".split()):\n",
    "            url = \"https://google.com/search?hl=zh-TW&q=台北市手搖飲料店&num=10\"\n",
    "            return url\n",
    "        elif any(j in query for j in \"名產 伴手禮 土產\".split()):\n",
    "            url = \"https://google.com/search?hl=zh-TW&q=台北市名產&num=10\"\n",
    "            return url\n",
    "        \n",
    "        else:\n",
    "            return None\n",
    "            # return \"我還沒辦法回覆你的問題喔!\"\n",
    "    else:\n",
    "        return None\n",
    "        # return \"我還沒辦法回覆你的問題喔!\""
   ]
  },
  {
   "cell_type": "code",
   "execution_count": 3,
   "metadata": {
    "colab": {
     "base_uri": "https://localhost:8080/"
    },
    "executionInfo": {
     "elapsed": 1132,
     "status": "ok",
     "timestamp": 1608877941404,
     "user": {
      "displayName": "Felix Pei",
      "photoUrl": "https://lh3.googleusercontent.com/a-/AOh14GjAjw3iNbP_aCjQqmiXrnu0LqK80xxhXT08lUdUVA=s64",
      "userId": "15614023586931524931"
     },
     "user_tz": -480
    },
    "id": "R_Dw1qbAlLEz",
    "outputId": "e0123501-7a57-45bd-f4ce-edf47866a260"
   },
   "outputs": [
    {
     "name": "stdout",
     "output_type": "stream",
     "text": [
      "你是誰 我是你的助理! 我可以陪你聊天喔~\n",
      "===\n",
      "撩妹金句 ('你單身多久了', '一年多了', '對不起，讓你等了這麼久')\n",
      "===\n",
      "告訴我台北的知名景點有哪些 有101, 中正紀念堂還可以去爬象山喔!\n",
      "===\n",
      "景點有哪些 None\n",
      "===\n",
      "台北市有幾間手搖飲料店 https://google.com/search?hl=zh-TW&q=台北市手搖飲料店&num=10\n",
      "===\n",
      "台北市有幾間搖手店 None\n",
      "===\n",
      "天龍國的伴手禮去哪裡買 https://google.com/search?hl=zh-TW&q=台北市名產&num=10\n",
      "===\n",
      "天龍人的伴手禮 None\n",
      "===\n"
     ]
    }
   ],
   "source": [
    "queries = [\n",
    "    \"你是誰\",\n",
    "    \"撩妹金句\",\n",
    "    \"告訴我台北的知名景點有哪些\",\n",
    "    \"景點有哪些\",\n",
    "    \"台北市有幾間手搖飲料店\",\n",
    "    \"台北市有幾間搖手店\",\n",
    "    \"天龍國的伴手禮去哪裡買\",\n",
    "    \"天龍人的伴手禮\",   \n",
    "]\n",
    "\n",
    "for query in queries:\n",
    "    answer = get_cutomize_ans(query)\n",
    "    print(query,answer)\n",
    "    print(\"===\")"
   ]
  },
  {
   "cell_type": "markdown",
   "metadata": {
    "id": "FTjlc9jnlLE0"
   },
   "source": [
    "## 1-2. chatbot API"
   ]
  },
  {
   "cell_type": "code",
   "execution_count": 6,
   "metadata": {
    "id": "zonAlB7elLE0"
   },
   "outputs": [],
   "source": [
    "# 青雲客 API\n",
    "def get_api_ans(query):\n",
    "    URL = \"http://api.qingyunke.com/api.php?key=free&appid=0&msg={}\".format(query)\n",
    "    headers = {'Content-Type': 'application/json'}\n",
    "    res = requests.get(URL, headers=headers)\n",
    "    return res.json()['content']"
   ]
  },
  {
   "cell_type": "code",
   "execution_count": 5,
   "metadata": {
    "colab": {
     "base_uri": "https://localhost:8080/"
    },
    "executionInfo": {
     "elapsed": 4557,
     "status": "ok",
     "timestamp": 1608878000397,
     "user": {
      "displayName": "Felix Pei",
      "photoUrl": "https://lh3.googleusercontent.com/a-/AOh14GjAjw3iNbP_aCjQqmiXrnu0LqK80xxhXT08lUdUVA=s64",
      "userId": "15614023586931524931"
     },
     "user_tz": -480
    },
    "id": "YuuTukxulLE0",
    "outputId": "b822a17b-6435-4e14-ebb3-624398f0a147",
    "scrolled": true
   },
   "outputs": [
    {
     "name": "stdout",
     "output_type": "stream",
     "text": [
      "我最近睡不著 菲菲不需要睡觉的，精神得很呢\n",
      "===\n"
     ]
    }
   ],
   "source": [
    "queries = [\n",
    "#    \"你不是已經在家了嗎\",\n",
    "#     \"重點是什麼呢\",\n",
    "     \"我最近睡不著\",\n",
    "#     \"你聽過鬼滅之刃嗎\",\n",
    "#     \"一起去玩啦\",\n",
    "#     \"風大雨大太陽大\",\n",
    "#     \"我好想吃冰喔\",\n",
    "#     \"呵呵，如果是這樣就沒救囉\",\n",
    "#     \"佛祖會生氣喔\",\n",
    "#     \"你會溜直排輪嗎\"\n",
    "]\n",
    "\n",
    "for query in queries:\n",
    "    answer = get_api_ans(query)\n",
    "    print(query,answer)\n",
    "    print(\"===\")"
   ]
  },
  {
   "cell_type": "markdown",
   "metadata": {
    "id": "dEiYiKOmlLE1"
   },
   "source": [
    "# 2.知識問答實作"
   ]
  },
  {
   "cell_type": "code",
   "execution_count": 57,
   "metadata": {
    "id": "jY5t50d-lLE1"
   },
   "outputs": [],
   "source": [
    "import jieba\n",
    "import jieba.posseg\n",
    "import urllib.parse\n",
    "import requests, re\n",
    "from bs4 import BeautifulSoup\n",
    "\n",
    "\n",
    "# 進行斷詞\n",
    "def jieba_tokenizer(query):\n",
    "    word_pos = jieba.posseg.cut(query)\n",
    "    return [(word,pos) for word, pos in word_pos]\n",
    "\n",
    "# 取得 html   \n",
    "def get_html(query, num):\n",
    "    query = urllib.parse.quote_plus(query)\n",
    "    url = 'https://google.com/search?hl=zh-TW&q=' + query + \"&num=\" + str(num)\n",
    "    try:\n",
    "        response = requests.get(url)\n",
    "        return BeautifulSoup(response.text, 'lxml')\n",
    "    except:\n",
    "        return None\n",
    "    \n",
    "# 取得搜尋結果的標題\n",
    "def get_title(text):\n",
    "    title = re.findall(r'<h3 class=\"zBAuLc\"><div class=\"BNeawe vvjwJb AP7Wnd\">(?P<content>.*?)</div></h3>', str(text), re.DOTALL)\n",
    "    if title != []:\n",
    "        title = title[0].replace('\\n', '')\n",
    "    return title\n",
    "\n",
    "# 取得結果摘要\n",
    "def get_content(text):\n",
    "    content = re.findall(r'<div class=\"kCrYT\"><div><div class=\"BNeawe s3v9rd AP7Wnd\"><div><div><div class=\"BNeawe s3v9rd AP7Wnd\">(?P<content>.*?)</div></div></div></div></div></div></div>', str(text), re.DOTALL)\n",
    "    if content != []:\n",
    "        content = content[0].replace('\\n', '')\n",
    "        content = re.sub(u'<span class=\"r0bn4c rQMQod\">.*?\"r0bn4c rQMQod\"> · </span>', \"\", content)\n",
    "    return content\n",
    "\n",
    "def get_encyclopedia_ans(query):\n",
    "    token = jieba_tokenizer(query)\n",
    "    html = get_html(query, 1)\n",
    "\n",
    "    candidate = html.select('div.ZINbbc.xpd.O9g5cc.uUPGi')\n",
    "    answer = get_content(candidate)\n",
    "    return answer"
   ]
  },
  {
   "cell_type": "code",
   "execution_count": 25,
   "metadata": {
    "colab": {
     "base_uri": "https://localhost:8080/"
    },
    "executionInfo": {
     "elapsed": 3514,
     "status": "ok",
     "timestamp": 1608878601905,
     "user": {
      "displayName": "Felix Pei",
      "photoUrl": "https://lh3.googleusercontent.com/a-/AOh14GjAjw3iNbP_aCjQqmiXrnu0LqK80xxhXT08lUdUVA=s64",
      "userId": "15614023586931524931"
     },
     "user_tz": -480
    },
    "id": "zWOdR9tklLE1",
    "outputId": "3e0a484b-d9d8-4cb5-9d37-05206e7d382a"
   },
   "outputs": [
    {
     "name": "stdout",
     "output_type": "stream",
     "text": [
      "馬英九是誰 2012年順利连任中华民国总统。2015年11月7日，馬英九在新加坡與中國共產黨中央委員會總書記習近平進行兩岸領導人會面，是兩岸隔海分治 ...副市長: <span class=\"BNeawe\"><a href=\"/url?q=https://zh.wikipedia.org/wiki/%25E7%2599%25BD%25E7%25A7%2580%25E9%259B%2584&amp;sa=U&amp;ved=2ahUKEwiVyqm8gcvvAhVMyYsBHaUHCusQs2YwAHoECAAQBA&amp;usg=AOvVaw1SaQT1j3nHoR_MQgQEJOmM\"><span class=\"XLloXe AP7Wnd\">白秀雄</span></a></span><span class=\"r0bn4c rQMQod\">; </span><span class=\"BNeawe\"><a href=\"/url?q=https://zh.wikipedia.org/wiki/%25E9%2587%2591%25E6%25BA%25A5%25E8%2581%25B0&amp;sa=U&amp;ved=2ahUKEwiVyqm8gcvvAhVMyYsBHaUHCusQs2YwAHoECAAQBQ&amp;usg=AOvVaw1jiI3QYsREzTdZe-B20zJ4\"><span class=\"XLloXe AP7Wnd\">金溥聰</span></a></span>副总统: <span class=\"r0bn4c rQMQod\">蕭萬長（第12任）; 吳敦義（第13任）</span>居住地: <span class=\"r0bn4c rQMQod\">中華民國臺北市文山區</span>服役时间: <span class=\"r0bn4c rQMQod\">1972年－1974年</span>\n",
      "===\n",
      "介紹吳宗憲 藝人| 姓名= 吳宗憲| 類型= 男藝人| 圖片= 吴宗宪（维基百科）.JPG | 圖片尺寸= 250px | 圖片簡介= | 英文名= Jacky Wu. | 暱稱= 憲哥; 本土天王; 綜藝天王; Local King.\n",
      "===\n",
      "拜登的生平 他不喜歡當時民主黨德拉瓦州州長查爾斯·泰瑞（Charles L. Terry）的保守派種族政治，而支持持自由主義的共和黨人拉塞爾·彼德森（Russell W. Peterson），後者在 ...<span class=\"BNeawe\"><a href=\"/url?q=https://zh.wikipedia.org/zh-tw/%25E4%25B9%2594%25C2%25B7%25E6%258B%259C%25E7%2599%25BB%23%25E5%258F%2582%25E8%25AE%25AE%25E5%2591%2598%25E6%2597%25B6%25E6%259C%259F%25EF%25BC%25881973-2009%25EF%25BC%2589&amp;sa=U&amp;ved=2ahUKEwi6g-O8gcvvAhX9wosBHTJuAsYQ0gIwC3oECAAQAg&amp;usg=AOvVaw0whZzRebdOkCbMezzbIwAo\"><span class=\"XLloXe AP7Wnd\">參議員時期（1973-2009）</span></a></span> · <span class=\"BNeawe\"><a href=\"/url?q=https://zh.wikipedia.org/zh-tw/%25E4%25B9%2594%25C2%25B7%25E6%258B%259C%25E7%2599%25BB%23%25E5%2589%25AF%25E6%2580%25BB%25E7%25BB%259F%25E6%2597%25B6%25E6%259C%259F%25EF%25BC%25882009-2017%25EF%25BC%2589&amp;sa=U&amp;ved=2ahUKEwi6g-O8gcvvAhX9wosBHTJuAsYQ0gIwC3oECAAQAw&amp;usg=AOvVaw0i-pCy5NELUBJ64j4D1N0r\"><span class=\"XLloXe AP7Wnd\">副總統時期（2009-2017）</span></a></span> · <span class=\"BNeawe\"><a href=\"/url?q=https://zh.wikipedia.org/zh-tw/%25E4%25B9%2594%25C2%25B7%25E6%258B%259C%25E7%2599%25BB%232020%25E5%25B9%25B4%25E6%2580%25BB%25E7%25BB%259F%25E9%2580%2589%25E4%25B8%25BE&amp;sa=U&amp;ved=2ahUKEwi6g-O8gcvvAhX9wosBHTJuAsYQ0gIwC3oECAAQBA&amp;usg=AOvVaw2CrvfHe19VMDTiBZBvh8e2\"><span class=\"XLloXe AP7Wnd\">2020年總統選舉</span></a></span> · <span class=\"BNeawe\"><a href=\"/url?q=https://zh.wikipedia.org/zh-tw/%25E4%25B9%2594%25C2%25B7%25E6%258B%259C%25E7%2599%25BB%23%25E6%2594%25BF%25E6%25B2%25BB%25E7%25AB%258B%25E5%25A0%25B4&amp;sa=U&amp;ved=2ahUKEwi6g-O8gcvvAhX9wosBHTJuAsYQ0gIwC3oECAAQBQ&amp;usg=AOvVaw0Qab58yXbmAG2K70MiUqy5\"><span class=\"XLloXe AP7Wnd\">政治立場</span></a></span>副總統: <span class=\"BNeawe\"><a href=\"/url?q=https://zh.wikipedia.org/wiki/%25E8%25B3%2580%25E9%258C%25A6%25E9%25BA%2597&amp;sa=U&amp;ved=2ahUKEwi6g-O8gcvvAhX9wosBHTJuAsYQs2YwC3oECAAQCA&amp;usg=AOvVaw1OjTr8nHtBz29obmBqMYDv\"><span class=\"XLloXe AP7Wnd\">賀錦麗</span></a></span>總統: <span class=\"BNeawe\"><a href=\"/url?q=https://zh.wikipedia.org/wiki/%25E5%25B7%25B4%25E6%258B%2589%25E5%2585%258B%25C2%25B7%25E5%25A5%25A7%25E5%25B7%25B4%25E9%25A6%25AC&amp;sa=U&amp;ved=2ahUKEwi6g-O8gcvvAhX9wosBHTJuAsYQs2YwC3oECAAQCg&amp;usg=AOvVaw2GE7zkdcSNwyHKUtmL-jCT\"><span class=\"XLloXe AP7Wnd\">巴拉克·歐巴馬</span></a></span>宗教信仰: <span class=\"BNeawe\"><a href=\"/url?q=https://zh.wikipedia.org/wiki/%25E5%25A4%25A9%25E4%25B8%25BB%25E6%2595%2599&amp;sa=U&amp;ved=2ahUKEwi6g-O8gcvvAhX9wosBHTJuAsYQs2YwC3oECAAQDA&amp;usg=AOvVaw3-nMuuA4XHnBGMwpxxLdLb\"><span class=\"XLloXe AP7Wnd\">天主教</span></a></span>政黨: <span class=\"BNeawe\"><a href=\"/url?q=https://zh.wikipedia.org/wiki/%25E6%25B0%2591%25E4%25B8%25BB%25E9%25BB%25A8_(%25E7%25BE%258E%25E5%259C%258B)&amp;sa=U&amp;ved=2ahUKEwi6g-O8gcvvAhX9wosBHTJuAsYQs2YwC3oECAAQDg&amp;usg=AOvVaw2yqRu6s-siDoh8Sj726nlP\"><span class=\"XLloXe AP7Wnd\">民主黨</span></a></span>\n",
      "===\n",
      "含羞草的原理 []\n",
      "===\n",
      "黑死病發生的時間 最初反應為跳蚤咬傷部位臨近的淋巴腺發炎，這就是腺鼠疫，經常發生於鼠蹊部，. 少發生於腋下或頸 ... 口的四分之一，即歷史上著名的黑死病。許多歷史學家認為“ ...\n",
      "===\n",
      "小狗的智商 導讀：小狗是人類最忠實的朋友，當妳傷心、難過、悲傷都可以向牠訴苦，或者有些心底話說不出口也可以說。其實狗狗智商算高了，牠聽得懂妳再叫牠，但是如何 ...\n",
      "===\n"
     ]
    }
   ],
   "source": [
    "queries = [\n",
    "    \"馬英九是誰\", \n",
    "    \"介紹吳宗憲\", \n",
    "    \"拜登的生平\", \n",
    "    \"含羞草的原理\", \n",
    "    \"黑死病發生的時間\", \n",
    "    \"小狗的智商\"\n",
    "]\n",
    "\n",
    "for query in queries:\n",
    "    answer = get_encyclopedia_ans(query)\n",
    "    print(query,answer)\n",
    "    print(\"===\")"
   ]
  },
  {
   "cell_type": "markdown",
   "metadata": {
    "id": "e7aj9VynlLE2"
   },
   "source": [
    "# 3.聊天機器人answer selection"
   ]
  },
  {
   "cell_type": "code",
   "execution_count": 59,
   "metadata": {
    "id": "FACdOxYblLE2"
   },
   "outputs": [],
   "source": [
    "# jieba 詞性參考 => http://blog.pulipuli.info/2017/11/fasttag-identify-part-of-speech-in.html\n",
    "\n",
    "def query_classifier(token):\n",
    "    '''\n",
    "    return\n",
    "     True => samll talk\n",
    "     False => encyclopedia\n",
    "    '''\n",
    "    count_nouns, count_verbs, count_advs, count_adjs = 0, 0, 0, 0\n",
    "\n",
    "    token_len = len(token)\n",
    "    for i, token in enumerate(token):\n",
    "        word, pos = token\n",
    "\n",
    "        if pos == \"x\": # 標點符號\n",
    "            token_len -= 1\n",
    "                      \n",
    "        if any(pos == p for p in \"n ng nr nrfg nrt ns nt nz\".split(\" \")): # 名詞類\n",
    "            count_nouns += 1\n",
    "        elif any(pos == p for p in \"v vg vd vi vn vq\".split(\" \")): # 動詞類\n",
    "            count_verbs += 1\n",
    "\n",
    "    \n",
    "    # 若完全沒比對出名詞 可能為口語短句 應忽略\n",
    "    if count_nouns == 0:\n",
    "        return True\n",
    "     # 若動詞超過兩個 可能為非口語短句 不應忽略\n",
    "    elif count_verbs >= 2:\n",
    "        return False\n",
    "    else:\n",
    "        return False\n",
    "    \n",
    "def get_response(query):\n",
    "    token = jieba_tokenizer(query)\n",
    "    res = query_classifier(token)\n",
    "    \n",
    "    cutomize_ans = get_cutomize_ans(query)\n",
    "    # 先判斷是否為自定義語句\n",
    "    if cutomize_ans != None:\n",
    "        return cutomize_ans\n",
    "    else:\n",
    "        # 閒聊問句\n",
    "        if res:\n",
    "            return get_api_ans(query)\n",
    "        # 知識問句\n",
    "        else:\n",
    "            return get_encyclopedia_ans(query)   "
   ]
  },
  {
   "cell_type": "code",
   "execution_count": 60,
   "metadata": {
    "colab": {
     "base_uri": "https://localhost:8080/"
    },
    "executionInfo": {
     "elapsed": 100183,
     "status": "ok",
     "timestamp": 1608878499272,
     "user": {
      "displayName": "Felix Pei",
      "photoUrl": "https://lh3.googleusercontent.com/a-/AOh14GjAjw3iNbP_aCjQqmiXrnu0LqK80xxhXT08lUdUVA=s64",
      "userId": "15614023586931524931"
     },
     "user_tz": -480
    },
    "id": "exfYHyYWlLE2",
    "outputId": "3f04b5c9-a3f0-416c-87bd-2538db5933cf"
   },
   "outputs": [
    {
     "name": "stdout",
     "output_type": "stream",
     "text": [
      "Q: 蔡英文是誰\n",
      "A: 蔡英文（排灣語：Tjuku；英語：Tsai Ing-Wen；1956年8月31日－），中華民國民主進步黨籍政治人物，現任中華民國總統兼民主進步黨主席，亦為法律學者與 ...<span class=\"BNeawe\"><a href=\"/url?q=https://zh.wikipedia.org/wiki/%25E8%2594%25A1%25E6%25BD%2594%25E7%2594%259F&amp;sa=U&amp;ved=2ahUKEwifr_WeksvvAhXpDaYKHYR_CmwQ0gIwC3oECAAQAg&amp;usg=AOvVaw25f8kKjxl_6ZjtgTLtXBSI\"><span class=\"XLloXe AP7Wnd\">蔡潔生</span></a></span> · <span class=\"BNeawe\"><a href=\"/url?q=https://zh.wikipedia.org/wiki/%25E8%2594%25A1%25E8%258B%25B1%25E6%2596%2587%25E5%25AD%25B8%25E4%25BD%258D%25E9%2596%2580&amp;sa=U&amp;ved=2ahUKEwifr_WeksvvAhXpDaYKHYR_CmwQ0gIwC3oECAAQAw&amp;usg=AOvVaw2vSUzxxdBhNPSGp9xlo2G0\"><span class=\"XLloXe AP7Wnd\">蔡英文學位門</span></a></span> · <span class=\"BNeawe\"><a href=\"/url?q=https://zh.wikipedia.org/wiki/%25E4%25B8%25AD%25E8%258F%25AF%25E6%25B0%2591%25E5%259C%258B%25E7%25B8%25BD%25E7%25B5%25B1%25E5%25AE%2598%25E9%2582%25B8&amp;sa=U&amp;ved=2ahUKEwifr_WeksvvAhXpDaYKHYR_CmwQ0gIwC3oECAAQBA&amp;usg=AOvVaw22kWcyhzsuPzWeE7-iwlq9\"><span class=\"XLloXe AP7Wnd\">中華民國總統官邸</span></a></span> · <span class=\"BNeawe\"><a href=\"/url?q=https://zh.wikipedia.org/wiki/%25E8%25B3%25B4%25E6%25B8%2585%25E5%25BE%25B7&amp;sa=U&amp;ved=2ahUKEwifr_WeksvvAhXpDaYKHYR_CmwQ0gIwC3oECAAQBQ&amp;usg=AOvVaw37GOJ6GZvSP-s08UAznd3L\"><span class=\"XLloXe AP7Wnd\">賴清德</span></a></span>副总统: <span class=\"r0bn4c rQMQod\">陳建仁（第14任）; 賴清德（第15任）</span>总统: <span class=\"BNeawe\"><a href=\"/url?q=https://zh.wikipedia.org/wiki/%25E9%2599%25B3%25E6%25B0%25B4%25E6%2589%2581&amp;sa=U&amp;ved=2ahUKEwifr_WeksvvAhXpDaYKHYR_CmwQs2YwC3oECAAQCQ&amp;usg=AOvVaw2cPcefMQYX0CEqQaZ0DVmo\"><span class=\"XLloXe AP7Wnd\">陳水扁</span></a></span>居住地: <span class=\"BNeawe\"><a href=\"/url?q=https://zh.wikipedia.org/wiki/%25E4%25B8%25AD%25E8%258F%25AF%25E6%25B0%2591%25E5%259C%258B%25E7%25B8%25BD%25E7%25B5%25B1%25E5%25AE%2598%25E9%2582%25B8&amp;sa=U&amp;ved=2ahUKEwifr_WeksvvAhXpDaYKHYR_CmwQs2YwC3oECAAQCw&amp;usg=AOvVaw0RMmMgfbb9vqjGkMLjm2dd\"><span class=\"XLloXe AP7Wnd\">永和寓所</span></a></span>国籍: <span class=\"r0bn4c rQMQod\">中華民國</span>\n",
      "===\n",
      "Q: 介紹陳零九\n",
      "A: 陳零九（英語：Nine Chen，1987年4月9日－），本名為陳志豪，出生於台灣高雄，有1/16的 ... 主要介紹兩人與藝人朋友們挑戰不同密室逃脫的遊戲過程，後續有介紹收藏的公仔及邀藝人抽一番賞等活動。 2020年1月，與一群好友開設「九是 ...<span class=\"BNeawe\"><a href=\"/url?q=https://zh.wikipedia.org/zh-tw/%25E9%2599%25B3%25E9%259B%25B6%25E4%25B9%259D%23%25E7%2599%25BC%25E5%25B1%2595%25E6%25AD%25B7%25E7%25A8%258B&amp;sa=U&amp;ved=2ahUKEwjhidGhksvvAhU1yYsBHfECBwAQ0gIwE3oECAAQAg&amp;usg=AOvVaw1T8nWTNtW1gtUM-maKjUwp\"><span class=\"XLloXe AP7Wnd\">發展歷程</span></a></span> · <span class=\"BNeawe\"><a href=\"/url?q=https://zh.wikipedia.org/zh-tw/%25E9%2599%25B3%25E9%259B%25B6%25E4%25B9%259D%23%25E5%2580%258B%25E4%25BA%25BA%25E7%2594%259F%25E6%25B4%25BB&amp;sa=U&amp;ved=2ahUKEwjhidGhksvvAhU1yYsBHfECBwAQ0gIwE3oECAAQAw&amp;usg=AOvVaw2E_rKCv4Ag8_IzQFRgZDOt\"><span class=\"XLloXe AP7Wnd\">個人生活</span></a></span> · <span class=\"BNeawe\"><a href=\"/url?q=https://zh.wikipedia.org/zh-tw/%25E9%2599%25B3%25E9%259B%25B6%25E4%25B9%259D%23%25E5%2589%25AF%25E6%25A5%25AD%25E7%2599%25BC%25E5%25B1%2595&amp;sa=U&amp;ved=2ahUKEwjhidGhksvvAhU1yYsBHfECBwAQ0gIwE3oECAAQBA&amp;usg=AOvVaw2cq26J-FmPz-cUHUhb3YBS\"><span class=\"XLloXe AP7Wnd\">副業發展</span></a></span> · <span class=\"BNeawe\"><a href=\"/url?q=https://zh.wikipedia.org/zh-tw/%25E9%2599%25B3%25E9%259B%25B6%25E4%25B9%259D%23%25E9%259F%25B3%25E6%25A8%2582%25E4%25BD%259C%25E5%2593%2581&amp;sa=U&amp;ved=2ahUKEwjhidGhksvvAhU1yYsBHfECBwAQ0gIwE3oECAAQBQ&amp;usg=AOvVaw02sg6aX2CimDFOFyDH6Nmr\"><span class=\"XLloXe AP7Wnd\">音樂作品</span></a></span>经纪公司: <span class=\"r0bn4c rQMQod\">後台音樂（2010年 - 2018年）; 滾石唱片（2019年起）</span>本名: <span class=\"r0bn4c rQMQod\">陳志豪</span>教育程度: <span class=\"r0bn4c rQMQod\">景文科技大學</span>音乐类型: <span class=\"r0bn4c rQMQod\">華語流行音樂、R&amp;B、Rap</span>\n",
      "===\n",
      "Q: 柴可夫斯基的生平\n",
      "A: 但是，这都只限于猜测，真正的原因直到现在还是一个謎。 目录. 1 生平. 1.1 早年; 1.2 ...<span class=\"BNeawe\"><a href=\"/url?q=https://zh.wikipedia.org/zh-tw/%25E5%25BD%25BC%25E5%25BE%2597%25C2%25B7%25E4%25BC%258A%25E9%2587%258C%25E5%25A5%2587%25C2%25B7%25E6%259F%25B4%25E5%258F%25AF%25E5%25A4%25AB%25E6%2596%25AF%25E5%259F%25BA%23%25E4%25BD%259C%25E5%2593%2581&amp;sa=U&amp;ved=2ahUKEwjJpaykksvvAhUVBZQKHU9cAwsQ0gIwE3oECAAQAg&amp;usg=AOvVaw2bzSp1SwyrAgBPa6JhwY-u\"><span class=\"XLloXe AP7Wnd\">作品</span></a></span> · <span class=\"BNeawe\"><a href=\"/url?q=https://zh.wikipedia.org/zh-tw/%25E5%25BD%25BC%25E5%25BE%2597%25C2%25B7%25E4%25BC%258A%25E9%2587%258C%25E5%25A5%2587%25C2%25B7%25E6%259F%25B4%25E5%258F%25AF%25E5%25A4%25AB%25E6%2596%25AF%25E5%259F%25BA%23%25E4%25B8%25AA%25E4%25BA%25BA%25E7%2594%259F%25E6%25B4%25BB&amp;sa=U&amp;ved=2ahUKEwjJpaykksvvAhUVBZQKHU9cAwsQ0gIwE3oECAAQAw&amp;usg=AOvVaw1IsCMPftrC9Bps2SLjZkjL\"><span class=\"XLloXe AP7Wnd\">个人生活</span></a></span> · <span class=\"BNeawe\"><a href=\"/url?q=https://zh.wikipedia.org/zh-tw/%25E5%25BD%25BC%25E5%25BE%2597%25C2%25B7%25E4%25BC%258A%25E9%2587%258C%25E5%25A5%2587%25C2%25B7%25E6%259F%25B4%25E5%258F%25AF%25E5%25A4%25AB%25E6%2596%25AF%25E5%259F%25BA%23%25E8%25A1%258D%25E7%2594%259F%25E4%25BD%259C%25E5%2593%2581&amp;sa=U&amp;ved=2ahUKEwjJpaykksvvAhUVBZQKHU9cAwsQ0gIwE3oECAAQBA&amp;usg=AOvVaw3mmqe3ZY3j-zCxmWG4Pfp0\"><span class=\"XLloXe AP7Wnd\">衍生作品</span></a></span>所属时期/乐派: <span class=\"r0bn4c rQMQod\">浪漫主义</span>逝世: <span class=\"r0bn4c rQMQod\">1893年11月6日（儒略曆10月25日）（53歲）; 俄罗斯帝国圣彼得堡</span>擅长类型: <span class=\"r0bn4c rQMQod\">管弦乐，芭蕾，歌剧</span>罗马拼音: <span class=\"r0bn4c rQMQod\">Pyotr Ilyich Tchaikovsky</span>\n",
      "===\n",
      "Q: 蘋果為什麼會變紅\n",
      "A: 蘋果成熟時，常能在有些蘋果園裡見到紅紅的蘋果掛在枝頭上，像紅富士、紅星等品種，但有時會發現這些品種的蘋果，被葉子遮擋的部分仍然是 ...\n",
      "===\n",
      "Q: 為什麼這群人是網紅霸主\n",
      "A: 這群人TGOP（This Group Of People），是由一群來自台灣專業戲劇科班畢業學生所組成的網路娛樂自媒體團隊，表現作品多由戲劇方式呈現，2011年8月3日 ...\n",
      "===\n",
      "Q: 熱氣球的原理\n",
      "A: 熱氣球飛行原理. 加熱熱氣球. 飛行員透過間歇性的操作燃燒器，加熱球皮內空氣， 氣體分子受熱，體積膨脹、密度減少，進而以產生浮力. 熱氣球並非真的被“駕駛”，  ...\n",
      "===\n",
      "Q: 你不是已經在家了嗎\n",
      "A: 帥哥，又有錢\n",
      "===\n",
      "Q: 重點是什麼呢\n",
      "A: 指槓桿中承受重量的一點。 [重點]百科解釋. 基本解釋：1. [Stress;Main point;Focal point]∶ ...\n",
      "===\n",
      "Q: 我最近睡不著\n",
      "A: 菲菲不需要睡觉的，精神得很呢\n",
      "===\n",
      "Q: 你聽過鬼滅之刃嗎\n",
      "A: []\n",
      "===\n",
      "Q: 一起去玩啦\n",
      "A: 好啊，一块去！\n",
      "===\n",
      "Q: 風大雨大太陽大\n",
      "A: []\n",
      "===\n",
      "Q: 我好想吃冰喔\n",
      "A: 台北最好吃的素炸G 趁連假來完成必吃清單的心願吧   #卡啦素G腿#咖哩卡啦G飯線上立即訂位：https://inline.app/booking/iwanticesomuch 好想吃冰かき氷/ 日 ...<span class=\"BNeawe\"><a href=\"/url?q=https://www.facebook.com/iwanticesomuch/posts/&amp;sa=U&amp;ved=2ahUKEwivsp_CksvvAhWJwpQKHfMuBHkQ0gIwDXoECAAQAg&amp;usg=AOvVaw2NP2KvGoL3HnKe1ZastcdF\"><span class=\"XLloXe AP7Wnd\">Posts</span></a></span> · <span class=\"BNeawe\"><a href=\"/url?q=https://www.facebook.com/iwanticesomuch/community/&amp;sa=U&amp;ved=2ahUKEwivsp_CksvvAhWJwpQKHfMuBHkQ0gIwDXoECAAQAw&amp;usg=AOvVaw2lrKrlIqmiBf1YaKnOSlaH\"><span class=\"XLloXe AP7Wnd\">Community</span></a></span> · <span class=\"BNeawe\"><a href=\"/url?q=https://www.facebook.com/iwanticesomuch/menu/&amp;sa=U&amp;ved=2ahUKEwivsp_CksvvAhWJwpQKHfMuBHkQ0gIwDXoECAAQBA&amp;usg=AOvVaw2IO3x8fGsUxO2-HeAq3lFQ\"><span class=\"XLloXe AP7Wnd\">Menu</span></a></span> · <span class=\"BNeawe\"><a href=\"/url?q=https://www.facebook.com/iwanticesomuch/events/&amp;sa=U&amp;ved=2ahUKEwivsp_CksvvAhWJwpQKHfMuBHkQ0gIwDXoECAAQBQ&amp;usg=AOvVaw35FRpedPABzQuLgTKL8sE2\"><span class=\"XLloXe AP7Wnd\">Events</span></a></span>\n",
      "===\n",
      "Q: 呵呵，如果是這樣就沒救囉\n",
      "A: 笑得这么难看\n",
      "===\n",
      "Q: 佛祖會生氣喔\n",
      "A: 舍利弗據實回答：『人多，床位少，初學比丘都想找個床位休息，我就讓他們。』 佛陀聽後非常生氣，連夜集合大眾，開示對於長老應有的尊敬。\n",
      "===\n",
      "Q: 你會溜直排輪嗎\n",
      "A: 有些事没必要认真，有些人没必要理会\n",
      "===\n"
     ]
    }
   ],
   "source": [
    "queries = [\n",
    "    \"蔡英文是誰\", \n",
    "    \"介紹陳零九\", \n",
    "    \"柴可夫斯基的生平\", \n",
    "    \"蘋果為什麼會變紅\", \n",
    "    \"為什麼這群人是網紅霸主\", \n",
    "    \"熱氣球的原理\",   \n",
    "    \n",
    "#     \"馬英九是誰\", \n",
    "#     \"介紹吳宗憲\", \n",
    "#     \"拜登的生平\", \n",
    "#     \"含羞草的原理\", \n",
    "#     \"黑死病發生的時間\", \n",
    "#     \"海豚的智商\",  \n",
    "    \n",
    "    \"你不是已經在家了嗎\",\n",
    "    \"重點是什麼呢\", # @@\n",
    "    \"我最近睡不著\",\n",
    "    \"你聽過鬼滅之刃嗎\",  # @@\n",
    "    \"一起去玩啦\",\n",
    "    \"風大雨大太陽大\",\n",
    "    \"我好想吃冰喔\",  # @@\n",
    "    \"呵呵，如果是這樣就沒救囉\",\n",
    "    \"佛祖會生氣喔\",  # @@\n",
    "    \"你會溜直排輪嗎\",\n",
    "    \n",
    "#     \"你是誰\",\n",
    "#     \"撩妹金句\",\n",
    "#     \"告訴我台北的知名景點有哪些\",\n",
    "#     \"景點有哪些\",\n",
    "#     \"台北市有幾間手搖飲料店\",\n",
    "#     \"台北市有幾間搖手店\",\n",
    "#     \"天龍國的伴手禮去哪裡買\",\n",
    "#     \"天龍人的伴手禮\"\n",
    "]\n",
    "import time\n",
    "for query in queries:\n",
    "    response = get_response(query)\n",
    "    print(\"Q:\",query)\n",
    "    print(\"A:\",response)\n",
    "    print(\"===\")\n",
    "    time.sleep(5)"
   ]
  }
 ],
 "metadata": {
  "colab": {
   "collapsed_sections": [],
   "name": "rule-based chatbot_單輪(範例).ipynb",
   "provenance": []
  },
  "kernelspec": {
   "display_name": "Python 3",
   "language": "python",
   "name": "python3"
  },
  "language_info": {
   "codemirror_mode": {
    "name": "ipython",
    "version": 3
   },
   "file_extension": ".py",
   "mimetype": "text/x-python",
   "name": "python",
   "nbconvert_exporter": "python",
   "pygments_lexer": "ipython3",
   "version": "3.7.10"
  }
 },
 "nbformat": 4,
 "nbformat_minor": 4
}
