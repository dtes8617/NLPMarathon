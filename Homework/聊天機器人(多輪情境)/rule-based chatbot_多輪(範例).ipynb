{
 "cells": [
  {
   "cell_type": "markdown",
   "metadata": {
    "id": "sWVzuokEBa3L"
   },
   "source": [
    "# 1.以Dialogflow實現多輪對話"
   ]
  },
  {
   "cell_type": "markdown",
   "metadata": {
    "id": "k2rfSzc_Ba3W"
   },
   "source": [
    "### (請參考slide\"Google Dialogflow 簡介\"完成實作)"
   ]
  },
  {
   "cell_type": "markdown",
   "metadata": {
    "id": "LO4s-U-OBa3X"
   },
   "source": [
    "# 2.Linebot設計"
   ]
  },
  {
   "cell_type": "markdown",
   "metadata": {
    "id": "KGhusGG3Ba3Y"
   },
   "source": [
    "### (請參考slide\"Linebot 基本設定\"完成Linebot串接)"
   ]
  },
  {
   "cell_type": "code",
   "execution_count": 2,
   "metadata": {
    "id": "j4NwZWJGBa3Z"
   },
   "outputs": [
    {
     "name": "stdout",
     "output_type": "stream",
     "text": [
      " * Serving Flask app \"__main__\" (lazy loading)\n",
      " * Environment: production\n",
      "   WARNING: This is a development server. Do not use it in a production deployment.\n",
      "   Use a production WSGI server instead.\n",
      " * Debug mode: off\n"
     ]
    },
    {
     "name": "stderr",
     "output_type": "stream",
     "text": [
      " * Running on http://127.0.0.1:5000/ (Press CTRL+C to quit)\n",
      "127.0.0.1 - - [11/Apr/2021 17:17:12] \"\u001b[33mPOST / HTTP/1.1\u001b[0m\" 404 -\n",
      "127.0.0.1 - - [11/Apr/2021 17:17:24] \"\u001b[37mPOST /callback HTTP/1.1\u001b[0m\" 200 -\n"
     ]
    },
    {
     "name": "stdout",
     "output_type": "stream",
     "text": [
      "body: {\"events\":[],\"destination\":\"U2f7ba918a6523b0e2acd7dee8833d56b\"}\n",
      "signature: h2PyxqCW5PlfWdqTmPeOCBd5gnQ+zVa1Q5PtsC0Z3MI=\n",
      "===\n"
     ]
    },
    {
     "name": "stderr",
     "output_type": "stream",
     "text": [
      "127.0.0.1 - - [11/Apr/2021 17:17:54] \"\u001b[37mPOST /callback HTTP/1.1\u001b[0m\" 200 -\n"
     ]
    },
    {
     "name": "stdout",
     "output_type": "stream",
     "text": [
      "body: {\"events\":[{\"type\":\"follow\",\"replyToken\":\"4ef3dda6d978424fa144961130e91b90\",\"source\":{\"userId\":\"Ub48cc7d7b61198bd5271236b99d2c30f\",\"type\":\"user\"},\"timestamp\":1618132672685,\"mode\":\"active\"}],\"destination\":\"U2f7ba918a6523b0e2acd7dee8833d56b\"}\n",
      "signature: 73ASJMWc8LBJrOpzcvCTTbQ5tmEWUZRIdXtSR6diAAQ=\n",
      "===\n",
      "body: {\"events\":[{\"type\":\"message\",\"replyToken\":\"de51dffcab2e424da358bd4fe5d9f581\",\"source\":{\"userId\":\"Ub48cc7d7b61198bd5271236b99d2c30f\",\"type\":\"user\"},\"timestamp\":1618132679546,\"mode\":\"active\",\"message\":{\"type\":\"text\",\"id\":\"13871324667076\",\"text\":\"hi\"}}],\"destination\":\"U2f7ba918a6523b0e2acd7dee8833d56b\"}\n",
      "signature: imYoZBf6HMqYpd1uaxWOl8pD0S515nXeLndVm+IHNtw=\n",
      "===\n"
     ]
    },
    {
     "name": "stderr",
     "output_type": "stream",
     "text": [
      "127.0.0.1 - - [11/Apr/2021 17:18:01] \"\u001b[37mPOST /callback HTTP/1.1\u001b[0m\" 200 -\n",
      "127.0.0.1 - - [11/Apr/2021 17:18:06] \"\u001b[37mPOST /callback HTTP/1.1\u001b[0m\" 200 -\n"
     ]
    },
    {
     "name": "stdout",
     "output_type": "stream",
     "text": [
      "body: {\"events\":[{\"type\":\"message\",\"replyToken\":\"13aab5be4cee4d5e993cdfc15346d05f\",\"source\":{\"userId\":\"Ub48cc7d7b61198bd5271236b99d2c30f\",\"type\":\"user\"},\"timestamp\":1618132685526,\"mode\":\"active\",\"message\":{\"type\":\"text\",\"id\":\"13871325059738\",\"text\":\"？\"}}],\"destination\":\"U2f7ba918a6523b0e2acd7dee8833d56b\"}\n",
      "signature: oZa2L2XbA1pn+al4usf7k9MCaL3i66RTSHmVr84AM14=\n",
      "===\n"
     ]
    },
    {
     "name": "stderr",
     "output_type": "stream",
     "text": [
      "127.0.0.1 - - [11/Apr/2021 17:18:41] \"\u001b[37mPOST /callback HTTP/1.1\u001b[0m\" 200 -\n"
     ]
    },
    {
     "name": "stdout",
     "output_type": "stream",
     "text": [
      "body: {\"events\":[{\"type\":\"message\",\"replyToken\":\"23d5ea8e19c8449f956c5fb0be80335f\",\"source\":{\"userId\":\"Ub48cc7d7b61198bd5271236b99d2c30f\",\"type\":\"user\"},\"timestamp\":1618132719965,\"mode\":\"active\",\"message\":{\"type\":\"text\",\"id\":\"13871327325085\",\"text\":\"hi\"}}],\"destination\":\"U2f7ba918a6523b0e2acd7dee8833d56b\"}\n",
      "signature: swuSdTVOCUjLNp75MYjNBPScZG+KKIcxa370wd83jBg=\n",
      "===\n"
     ]
    },
    {
     "name": "stderr",
     "output_type": "stream",
     "text": [
      "127.0.0.1 - - [11/Apr/2021 17:18:47] \"\u001b[37mPOST /callback HTTP/1.1\u001b[0m\" 200 -\n"
     ]
    },
    {
     "name": "stdout",
     "output_type": "stream",
     "text": [
      "body: {\"events\":[{\"type\":\"message\",\"replyToken\":\"57e3904dbded4dd198b7443d537caff0\",\"source\":{\"userId\":\"Ub48cc7d7b61198bd5271236b99d2c30f\",\"type\":\"user\"},\"timestamp\":1618132725863,\"mode\":\"active\",\"message\":{\"type\":\"text\",\"id\":\"13871327717203\",\"text\":\"為什麼\"}}],\"destination\":\"U2f7ba918a6523b0e2acd7dee8833d56b\"}\n",
      "signature: q58Qcn7CcJyMiINxiFnqC23PToK53BcZvsNePQP4kVo=\n",
      "===\n"
     ]
    }
   ],
   "source": [
    "from __future__ import unicode_literals\n",
    "import os, requests, json, configparser\n",
    "from flask import Flask, request, abort\n",
    "from linebot import LineBotApi, WebhookHandler\n",
    "from linebot.exceptions import InvalidSignatureError\n",
    "from linebot.models import *\n",
    "\n",
    "app = Flask(__name__)\n",
    "\n",
    "# LINE 聊天機器人的基本資料\n",
    "config = configparser.ConfigParser()\n",
    "config.read('config.ini')\n",
    "\n",
    "line_bot_api = LineBotApi(config.get('line-bot', 'channel_access_token'))\n",
    "handler = WebhookHandler(config.get('line-bot', 'channel_secret'))\n",
    "\n",
    "# 接收 LINE 資訊\n",
    "@app.route(\"/callback\", methods=['POST'])\n",
    "def callback():\n",
    "    signature = request.headers['X-Line-Signature']\n",
    "    body = request.get_data(as_text=True)\n",
    "    app.logger.info(\"Request body: \" + body)\n",
    "\n",
    "    try:\n",
    "        print(\"body:\",body)\n",
    "        print(\"signature:\", signature)\n",
    "        print(\"===\")\n",
    "        handler.handle(body, signature)\n",
    "    except InvalidSignatureError:\n",
    "        abort(400)\n",
    "    return 'OK'\n",
    "\n",
    "# 回覆設定 (defaul僅能回固定語句)\n",
    "@handler.add(MessageEvent, message=TextMessage)\n",
    "def get_response(event):\n",
    "    query = event.message.text   \n",
    "    line_bot_api.reply_message(event.reply_token, TextSendMessage(text=\"不論你說什麼 我都回你好!\"))\n",
    "\n",
    "if __name__ == \"__main__\":\n",
    "    app.run()"
   ]
  },
  {
   "cell_type": "markdown",
   "metadata": {
    "id": "nqBkX5E6Ba3b"
   },
   "source": [
    "# 3.以Python實現多輪對話"
   ]
  },
  {
   "cell_type": "markdown",
   "metadata": {
    "id": "f8Qs28ZwBa3b"
   },
   "source": [
    "## 3-1.建立高鐵API函式"
   ]
  },
  {
   "cell_type": "markdown",
   "metadata": {
    "id": "F-cMfz8aBa3b"
   },
   "source": [
    "### (請參考 thsr_utils.py 完成函式)"
   ]
  },
  {
   "cell_type": "code",
   "execution_count": null,
   "metadata": {
    "id": "34pyFt-2Ba3c"
   },
   "outputs": [],
   "source": [
    "# 其他API呼叫方式請參考 => https://ptx.transportdata.tw/MOTC/?t=Rail&v=2"
   ]
  },
  {
   "cell_type": "markdown",
   "metadata": {
    "id": "s9EniWREBa3c"
   },
   "source": [
    "## 3-2.建立多輪判斷邏輯"
   ]
  },
  {
   "cell_type": "code",
   "execution_count": 6,
   "metadata": {
    "id": "m2s4PF0rBa3c",
    "outputId": "9083b993-b679-431a-ea33-d6ab0698e77d"
   },
   "outputs": [
    {
     "name": "stdout",
     "output_type": "stream",
     "text": [
      " * Serving Flask app \"__main__\" (lazy loading)\n",
      " * Environment: production\n",
      "   WARNING: This is a development server. Do not use it in a production deployment.\n",
      "   Use a production WSGI server instead.\n",
      " * Debug mode: off\n"
     ]
    },
    {
     "name": "stderr",
     "output_type": "stream",
     "text": [
      " * Running on http://127.0.0.1:5000/ (Press CTRL+C to quit)\n",
      "127.0.0.1 - - [11/Apr/2021 17:24:28] \"\u001b[37mPOST /callback HTTP/1.1\u001b[0m\" 200 -\n"
     ]
    },
    {
     "name": "stdout",
     "output_type": "stream",
     "text": [
      "body: {\"events\":[{\"type\":\"message\",\"replyToken\":\"f050388082c2426fb2d29564ba660fb7\",\"source\":{\"userId\":\"Ub48cc7d7b61198bd5271236b99d2c30f\",\"type\":\"user\"},\"timestamp\":1618133067135,\"mode\":\"active\",\"message\":{\"type\":\"text\",\"id\":\"13871350257761\",\"text\":\"要\"}}],\"destination\":\"U2f7ba918a6523b0e2acd7dee8833d56b\"}\n",
      "signature: tVJBoAAhQ7RQz86s+eg025zXm5C3RQpZBKbZ3GydVG8=\n",
      "===\n",
      "chat_record: ['要']\n",
      "body: {\"events\":[{\"type\":\"message\",\"replyToken\":\"097d6cbe70b44761acecc61488b4e420\",\"source\":{\"userId\":\"Ub48cc7d7b61198bd5271236b99d2c30f\",\"type\":\"user\"},\"timestamp\":1618133071723,\"mode\":\"active\",\"message\":{\"type\":\"text\",\"id\":\"13871350553707\",\"text\":\"高鐵\"}}],\"destination\":\"U2f7ba918a6523b0e2acd7dee8833d56b\"}\n",
      "signature: EHrnRGFQ//Ou6XS7do2BQ7VCqviIC73PbLLJ7J2w9Xw=\n",
      "===\n",
      "chat_record: ['要', '高鐵']\n"
     ]
    },
    {
     "name": "stderr",
     "output_type": "stream",
     "text": [
      "[2021-04-11 17:24:33,536] ERROR in app: Exception on /callback [POST]\n",
      "Traceback (most recent call last):\n",
      "  File \"D:\\ProgramData\\Anaconda3\\lib\\site-packages\\flask\\app.py\", line 2447, in wsgi_app\n",
      "    response = self.full_dispatch_request()\n",
      "  File \"D:\\ProgramData\\Anaconda3\\lib\\site-packages\\flask\\app.py\", line 1952, in full_dispatch_request\n",
      "    rv = self.handle_user_exception(e)\n",
      "  File \"D:\\ProgramData\\Anaconda3\\lib\\site-packages\\flask\\app.py\", line 1821, in handle_user_exception\n",
      "    reraise(exc_type, exc_value, tb)\n",
      "  File \"D:\\ProgramData\\Anaconda3\\lib\\site-packages\\flask\\_compat.py\", line 39, in reraise\n",
      "    raise value\n",
      "  File \"D:\\ProgramData\\Anaconda3\\lib\\site-packages\\flask\\app.py\", line 1950, in full_dispatch_request\n",
      "    rv = self.dispatch_request()\n",
      "  File \"D:\\ProgramData\\Anaconda3\\lib\\site-packages\\flask\\app.py\", line 1936, in dispatch_request\n",
      "    return self.view_functions[rule.endpoint](**req.view_args)\n",
      "  File \"<ipython-input-6-04d999ef4ece>\", line 39, in callback\n",
      "    handler.handle(body, signature)\n",
      "  File \"D:\\ProgramData\\Anaconda3\\lib\\site-packages\\linebot\\webhook.py\", line 260, in handle\n",
      "    self.__invoke_func(func, event, payload)\n",
      "  File \"D:\\ProgramData\\Anaconda3\\lib\\site-packages\\linebot\\webhook.py\", line 272, in __invoke_func\n",
      "    func(event)\n",
      "  File \"<ipython-input-6-04d999ef4ece>\", line 87, in get_response\n",
      "    line_bot_api.reply_message(event.reply_token, TextSendMessage(text=\"不論你說什麼 我都回你好!\"))\n",
      "  File \"D:\\ProgramData\\Anaconda3\\lib\\site-packages\\linebot\\api.py\", line 109, in reply_message\n",
      "    '/v2/bot/message/reply', data=json.dumps(data), timeout=timeout\n",
      "  File \"D:\\ProgramData\\Anaconda3\\lib\\site-packages\\linebot\\api.py\", line 1269, in _post\n",
      "    self.__check_error(response)\n",
      "  File \"D:\\ProgramData\\Anaconda3\\lib\\site-packages\\linebot\\api.py\", line 1310, in __check_error\n",
      "    error=Error.new_from_json_dict(response.json)\n",
      "linebot.exceptions.LineBotApiError: LineBotApiError: status_code=400, request_id=dc64df6c-c7b4-4c9c-b1a0-f6441af98e66, error_response={\"details\": [], \"message\": \"Invalid reply token\"}, headers={'Server': 'openresty', 'Content-Type': 'application/json', 'x-line-request-id': 'dc64df6c-c7b4-4c9c-b1a0-f6441af98e66', 'x-content-type-options': 'nosniff', 'x-xss-protection': '1; mode=block', 'x-frame-options': 'DENY', 'Content-Length': '33', 'Expires': 'Sun, 11 Apr 2021 09:24:33 GMT', 'Cache-Control': 'max-age=0, no-cache, no-store', 'Pragma': 'no-cache', 'Date': 'Sun, 11 Apr 2021 09:24:33 GMT', 'Connection': 'close'}\n",
      "127.0.0.1 - - [11/Apr/2021 17:24:33] \"\u001b[35m\u001b[1mPOST /callback HTTP/1.1\u001b[0m\" 500 -\n"
     ]
    },
    {
     "name": "stdout",
     "output_type": "stream",
     "text": [
      "body: {\"events\":[{\"type\":\"message\",\"replyToken\":\"fe5654d6403548b2add2cdbf848160ab\",\"source\":{\"userId\":\"Ub48cc7d7b61198bd5271236b99d2c30f\",\"type\":\"user\"},\"timestamp\":1618133076580,\"mode\":\"active\",\"message\":{\"type\":\"text\",\"id\":\"13871350878588\",\"text\":\"明天\"}}],\"destination\":\"U2f7ba918a6523b0e2acd7dee8833d56b\"}\n",
      "signature: Dk6QsniBuz7sGwiq7JBSCWu0OcsIs+3E6kugSRUP41s=\n",
      "===\n",
      "chat_record: ['要', '高鐵', '明天']\n"
     ]
    },
    {
     "name": "stderr",
     "output_type": "stream",
     "text": [
      "[2021-04-11 17:24:38,332] ERROR in app: Exception on /callback [POST]\n",
      "Traceback (most recent call last):\n",
      "  File \"D:\\ProgramData\\Anaconda3\\lib\\site-packages\\flask\\app.py\", line 2447, in wsgi_app\n",
      "    response = self.full_dispatch_request()\n",
      "  File \"D:\\ProgramData\\Anaconda3\\lib\\site-packages\\flask\\app.py\", line 1952, in full_dispatch_request\n",
      "    rv = self.handle_user_exception(e)\n",
      "  File \"D:\\ProgramData\\Anaconda3\\lib\\site-packages\\flask\\app.py\", line 1821, in handle_user_exception\n",
      "    reraise(exc_type, exc_value, tb)\n",
      "  File \"D:\\ProgramData\\Anaconda3\\lib\\site-packages\\flask\\_compat.py\", line 39, in reraise\n",
      "    raise value\n",
      "  File \"D:\\ProgramData\\Anaconda3\\lib\\site-packages\\flask\\app.py\", line 1950, in full_dispatch_request\n",
      "    rv = self.dispatch_request()\n",
      "  File \"D:\\ProgramData\\Anaconda3\\lib\\site-packages\\flask\\app.py\", line 1936, in dispatch_request\n",
      "    return self.view_functions[rule.endpoint](**req.view_args)\n",
      "  File \"<ipython-input-6-04d999ef4ece>\", line 39, in callback\n",
      "    handler.handle(body, signature)\n",
      "  File \"D:\\ProgramData\\Anaconda3\\lib\\site-packages\\linebot\\webhook.py\", line 260, in handle\n",
      "    self.__invoke_func(func, event, payload)\n",
      "  File \"D:\\ProgramData\\Anaconda3\\lib\\site-packages\\linebot\\webhook.py\", line 272, in __invoke_func\n",
      "    func(event)\n",
      "  File \"<ipython-input-6-04d999ef4ece>\", line 87, in get_response\n",
      "    line_bot_api.reply_message(event.reply_token, TextSendMessage(text=\"不論你說什麼 我都回你好!\"))\n",
      "  File \"D:\\ProgramData\\Anaconda3\\lib\\site-packages\\linebot\\api.py\", line 109, in reply_message\n",
      "    '/v2/bot/message/reply', data=json.dumps(data), timeout=timeout\n",
      "  File \"D:\\ProgramData\\Anaconda3\\lib\\site-packages\\linebot\\api.py\", line 1269, in _post\n",
      "    self.__check_error(response)\n",
      "  File \"D:\\ProgramData\\Anaconda3\\lib\\site-packages\\linebot\\api.py\", line 1310, in __check_error\n",
      "    error=Error.new_from_json_dict(response.json)\n",
      "linebot.exceptions.LineBotApiError: LineBotApiError: status_code=400, request_id=8e1da638-f12a-4e63-8cd6-da7c09f5a875, error_response={\"details\": [], \"message\": \"Invalid reply token\"}, headers={'Server': 'openresty', 'Content-Type': 'application/json', 'x-line-request-id': '8e1da638-f12a-4e63-8cd6-da7c09f5a875', 'x-content-type-options': 'nosniff', 'x-xss-protection': '1; mode=block', 'x-frame-options': 'DENY', 'Content-Length': '33', 'Expires': 'Sun, 11 Apr 2021 09:24:38 GMT', 'Cache-Control': 'max-age=0, no-cache, no-store', 'Pragma': 'no-cache', 'Date': 'Sun, 11 Apr 2021 09:24:38 GMT', 'Connection': 'close'}\n",
      "127.0.0.1 - - [11/Apr/2021 17:24:38] \"\u001b[35m\u001b[1mPOST /callback HTTP/1.1\u001b[0m\" 500 -\n"
     ]
    },
    {
     "name": "stdout",
     "output_type": "stream",
     "text": [
      "body: {\"events\":[{\"type\":\"message\",\"replyToken\":\"c649e572840c4f89974586e161c7fc64\",\"source\":{\"userId\":\"Ub48cc7d7b61198bd5271236b99d2c30f\",\"type\":\"user\"},\"timestamp\":1618133080560,\"mode\":\"active\",\"message\":{\"type\":\"text\",\"id\":\"13871351141868\",\"text\":\"下午\"}}],\"destination\":\"U2f7ba918a6523b0e2acd7dee8833d56b\"}\n",
      "signature: uv6VlvJ8TGr2JXioQXWrIj6ElPw5zbswfN2gOukB5KY=\n",
      "===\n",
      "chat_record: ['要', '高鐵', '明天', '下午']\n"
     ]
    },
    {
     "name": "stderr",
     "output_type": "stream",
     "text": [
      "[2021-04-11 17:24:41,805] ERROR in app: Exception on /callback [POST]\n",
      "Traceback (most recent call last):\n",
      "  File \"D:\\ProgramData\\Anaconda3\\lib\\site-packages\\flask\\app.py\", line 2447, in wsgi_app\n",
      "    response = self.full_dispatch_request()\n",
      "  File \"D:\\ProgramData\\Anaconda3\\lib\\site-packages\\flask\\app.py\", line 1952, in full_dispatch_request\n",
      "    rv = self.handle_user_exception(e)\n",
      "  File \"D:\\ProgramData\\Anaconda3\\lib\\site-packages\\flask\\app.py\", line 1821, in handle_user_exception\n",
      "    reraise(exc_type, exc_value, tb)\n",
      "  File \"D:\\ProgramData\\Anaconda3\\lib\\site-packages\\flask\\_compat.py\", line 39, in reraise\n",
      "    raise value\n",
      "  File \"D:\\ProgramData\\Anaconda3\\lib\\site-packages\\flask\\app.py\", line 1950, in full_dispatch_request\n",
      "    rv = self.dispatch_request()\n",
      "  File \"D:\\ProgramData\\Anaconda3\\lib\\site-packages\\flask\\app.py\", line 1936, in dispatch_request\n",
      "    return self.view_functions[rule.endpoint](**req.view_args)\n",
      "  File \"<ipython-input-6-04d999ef4ece>\", line 39, in callback\n",
      "    handler.handle(body, signature)\n",
      "  File \"D:\\ProgramData\\Anaconda3\\lib\\site-packages\\linebot\\webhook.py\", line 260, in handle\n",
      "    self.__invoke_func(func, event, payload)\n",
      "  File \"D:\\ProgramData\\Anaconda3\\lib\\site-packages\\linebot\\webhook.py\", line 272, in __invoke_func\n",
      "    func(event)\n",
      "  File \"<ipython-input-6-04d999ef4ece>\", line 87, in get_response\n",
      "    line_bot_api.reply_message(event.reply_token, TextSendMessage(text=\"不論你說什麼 我都回你好!\"))\n",
      "  File \"D:\\ProgramData\\Anaconda3\\lib\\site-packages\\linebot\\api.py\", line 109, in reply_message\n",
      "    '/v2/bot/message/reply', data=json.dumps(data), timeout=timeout\n",
      "  File \"D:\\ProgramData\\Anaconda3\\lib\\site-packages\\linebot\\api.py\", line 1269, in _post\n",
      "    self.__check_error(response)\n",
      "  File \"D:\\ProgramData\\Anaconda3\\lib\\site-packages\\linebot\\api.py\", line 1310, in __check_error\n",
      "    error=Error.new_from_json_dict(response.json)\n",
      "linebot.exceptions.LineBotApiError: LineBotApiError: status_code=400, request_id=f421e961-f2d3-4a73-8513-5d19656eb6f0, error_response={\"details\": [], \"message\": \"Invalid reply token\"}, headers={'Server': 'openresty', 'Content-Type': 'application/json', 'x-line-request-id': 'f421e961-f2d3-4a73-8513-5d19656eb6f0', 'x-content-type-options': 'nosniff', 'x-xss-protection': '1; mode=block', 'x-frame-options': 'DENY', 'Content-Length': '33', 'Expires': 'Sun, 11 Apr 2021 09:24:41 GMT', 'Cache-Control': 'max-age=0, no-cache, no-store', 'Pragma': 'no-cache', 'Date': 'Sun, 11 Apr 2021 09:24:41 GMT', 'Connection': 'close'}\n",
      "127.0.0.1 - - [11/Apr/2021 17:24:41] \"\u001b[35m\u001b[1mPOST /callback HTTP/1.1\u001b[0m\" 500 -\n",
      "127.0.0.1 - - [11/Apr/2021 17:24:48] \"\u001b[37mPOST /callback HTTP/1.1\u001b[0m\" 200 -\n"
     ]
    },
    {
     "name": "stdout",
     "output_type": "stream",
     "text": [
      "body: {\"events\":[{\"type\":\"message\",\"replyToken\":\"750f871352324f949efb544dd81388f6\",\"source\":{\"userId\":\"Ub48cc7d7b61198bd5271236b99d2c30f\",\"type\":\"user\"},\"timestamp\":1618133087509,\"mode\":\"active\",\"message\":{\"type\":\"text\",\"id\":\"13871351610964\",\"text\":\"澎湖\"}}],\"destination\":\"U2f7ba918a6523b0e2acd7dee8833d56b\"}\n",
      "signature: M3Ko8Z5fl0CvHgk3+rD9saQs9JX8TfIfaZ3XAH2AOdA=\n",
      "===\n",
      "chat_record: ['要', '高鐵', '明天', '下午', '澎湖']\n"
     ]
    },
    {
     "name": "stderr",
     "output_type": "stream",
     "text": [
      "127.0.0.1 - - [11/Apr/2021 17:24:58] \"\u001b[37mPOST /callback HTTP/1.1\u001b[0m\" 200 -\n"
     ]
    },
    {
     "name": "stdout",
     "output_type": "stream",
     "text": [
      "body: {\"events\":[{\"type\":\"message\",\"replyToken\":\"35ed2c3b5156432a956414e410a3beb0\",\"source\":{\"userId\":\"Ub48cc7d7b61198bd5271236b99d2c30f\",\"type\":\"user\"},\"timestamp\":1618133096730,\"mode\":\"active\",\"message\":{\"type\":\"text\",\"id\":\"13871352224001\",\"text\":\"板橋\"}}],\"destination\":\"U2f7ba918a6523b0e2acd7dee8833d56b\"}\n",
      "signature: pO/ZoeF3IHc0DUeW8KdTs1InuTrwcNDNIKGri3BXgNM=\n",
      "===\n",
      "chat_record: ['高鐵', '明天', '下午', '澎湖', '板橋']\n",
      "body: {\"events\":[{\"type\":\"message\",\"replyToken\":\"808dcbee91b448fcb155b1376b3c4a92\",\"source\":{\"userId\":\"Ub48cc7d7b61198bd5271236b99d2c30f\",\"type\":\"user\"},\"timestamp\":1618133101111,\"mode\":\"active\",\"message\":{\"type\":\"text\",\"id\":\"13871352512391\",\"text\":\"高鐵\"}}],\"destination\":\"U2f7ba918a6523b0e2acd7dee8833d56b\"}\n",
      "signature: MKjLst4Vxx/VI1iuFiMfcScq03S87oyZlV+xNqNVp+w=\n",
      "===\n",
      "chat_record: ['明天', '下午', '澎湖', '板橋', '高鐵']\n"
     ]
    },
    {
     "name": "stderr",
     "output_type": "stream",
     "text": [
      "[2021-04-11 17:25:02,889] ERROR in app: Exception on /callback [POST]\n",
      "Traceback (most recent call last):\n",
      "  File \"D:\\ProgramData\\Anaconda3\\lib\\site-packages\\flask\\app.py\", line 2447, in wsgi_app\n",
      "    response = self.full_dispatch_request()\n",
      "  File \"D:\\ProgramData\\Anaconda3\\lib\\site-packages\\flask\\app.py\", line 1952, in full_dispatch_request\n",
      "    rv = self.handle_user_exception(e)\n",
      "  File \"D:\\ProgramData\\Anaconda3\\lib\\site-packages\\flask\\app.py\", line 1821, in handle_user_exception\n",
      "    reraise(exc_type, exc_value, tb)\n",
      "  File \"D:\\ProgramData\\Anaconda3\\lib\\site-packages\\flask\\_compat.py\", line 39, in reraise\n",
      "    raise value\n",
      "  File \"D:\\ProgramData\\Anaconda3\\lib\\site-packages\\flask\\app.py\", line 1950, in full_dispatch_request\n",
      "    rv = self.dispatch_request()\n",
      "  File \"D:\\ProgramData\\Anaconda3\\lib\\site-packages\\flask\\app.py\", line 1936, in dispatch_request\n",
      "    return self.view_functions[rule.endpoint](**req.view_args)\n",
      "  File \"<ipython-input-6-04d999ef4ece>\", line 39, in callback\n",
      "    handler.handle(body, signature)\n",
      "  File \"D:\\ProgramData\\Anaconda3\\lib\\site-packages\\linebot\\webhook.py\", line 260, in handle\n",
      "    self.__invoke_func(func, event, payload)\n",
      "  File \"D:\\ProgramData\\Anaconda3\\lib\\site-packages\\linebot\\webhook.py\", line 272, in __invoke_func\n",
      "    func(event)\n",
      "  File \"<ipython-input-6-04d999ef4ece>\", line 87, in get_response\n",
      "    line_bot_api.reply_message(event.reply_token, TextSendMessage(text=\"不論你說什麼 我都回你好!\"))\n",
      "  File \"D:\\ProgramData\\Anaconda3\\lib\\site-packages\\linebot\\api.py\", line 109, in reply_message\n",
      "    '/v2/bot/message/reply', data=json.dumps(data), timeout=timeout\n",
      "  File \"D:\\ProgramData\\Anaconda3\\lib\\site-packages\\linebot\\api.py\", line 1269, in _post\n",
      "    self.__check_error(response)\n",
      "  File \"D:\\ProgramData\\Anaconda3\\lib\\site-packages\\linebot\\api.py\", line 1310, in __check_error\n",
      "    error=Error.new_from_json_dict(response.json)\n",
      "linebot.exceptions.LineBotApiError: LineBotApiError: status_code=400, request_id=888118ba-f2fb-44a3-a12b-828b836c9b2c, error_response={\"details\": [], \"message\": \"Invalid reply token\"}, headers={'Server': 'openresty', 'Content-Type': 'application/json', 'x-line-request-id': '888118ba-f2fb-44a3-a12b-828b836c9b2c', 'x-content-type-options': 'nosniff', 'x-xss-protection': '1; mode=block', 'x-frame-options': 'DENY', 'Content-Length': '33', 'Expires': 'Sun, 11 Apr 2021 09:25:02 GMT', 'Cache-Control': 'max-age=0, no-cache, no-store', 'Pragma': 'no-cache', 'Date': 'Sun, 11 Apr 2021 09:25:02 GMT', 'Connection': 'close'}\n",
      "127.0.0.1 - - [11/Apr/2021 17:25:02] \"\u001b[35m\u001b[1mPOST /callback HTTP/1.1\u001b[0m\" 500 -\n"
     ]
    },
    {
     "name": "stdout",
     "output_type": "stream",
     "text": [
      "body: {\"events\":[{\"type\":\"message\",\"replyToken\":\"1b257615b22d45bcbda57c3b1d8f6912\",\"source\":{\"userId\":\"Ub48cc7d7b61198bd5271236b99d2c30f\",\"type\":\"user\"},\"timestamp\":1618133105933,\"mode\":\"active\",\"message\":{\"type\":\"text\",\"id\":\"13871352833816\",\"text\":\"明天\"}}],\"destination\":\"U2f7ba918a6523b0e2acd7dee8833d56b\"}\n",
      "signature: QTWr3vAjxsch2JwSDn31RXBud7k42U0EwEohW8X6Mbg=\n",
      "===\n",
      "chat_record: ['下午', '澎湖', '板橋', '高鐵', '明天']\n"
     ]
    },
    {
     "name": "stderr",
     "output_type": "stream",
     "text": [
      "[2021-04-11 17:25:07,511] ERROR in app: Exception on /callback [POST]\n",
      "Traceback (most recent call last):\n",
      "  File \"D:\\ProgramData\\Anaconda3\\lib\\site-packages\\flask\\app.py\", line 2447, in wsgi_app\n",
      "    response = self.full_dispatch_request()\n",
      "  File \"D:\\ProgramData\\Anaconda3\\lib\\site-packages\\flask\\app.py\", line 1952, in full_dispatch_request\n",
      "    rv = self.handle_user_exception(e)\n",
      "  File \"D:\\ProgramData\\Anaconda3\\lib\\site-packages\\flask\\app.py\", line 1821, in handle_user_exception\n",
      "    reraise(exc_type, exc_value, tb)\n",
      "  File \"D:\\ProgramData\\Anaconda3\\lib\\site-packages\\flask\\_compat.py\", line 39, in reraise\n",
      "    raise value\n",
      "  File \"D:\\ProgramData\\Anaconda3\\lib\\site-packages\\flask\\app.py\", line 1950, in full_dispatch_request\n",
      "    rv = self.dispatch_request()\n",
      "  File \"D:\\ProgramData\\Anaconda3\\lib\\site-packages\\flask\\app.py\", line 1936, in dispatch_request\n",
      "    return self.view_functions[rule.endpoint](**req.view_args)\n",
      "  File \"<ipython-input-6-04d999ef4ece>\", line 39, in callback\n",
      "    handler.handle(body, signature)\n",
      "  File \"D:\\ProgramData\\Anaconda3\\lib\\site-packages\\linebot\\webhook.py\", line 260, in handle\n",
      "    self.__invoke_func(func, event, payload)\n",
      "  File \"D:\\ProgramData\\Anaconda3\\lib\\site-packages\\linebot\\webhook.py\", line 272, in __invoke_func\n",
      "    func(event)\n",
      "  File \"<ipython-input-6-04d999ef4ece>\", line 87, in get_response\n",
      "    line_bot_api.reply_message(event.reply_token, TextSendMessage(text=\"不論你說什麼 我都回你好!\"))\n",
      "  File \"D:\\ProgramData\\Anaconda3\\lib\\site-packages\\linebot\\api.py\", line 109, in reply_message\n",
      "    '/v2/bot/message/reply', data=json.dumps(data), timeout=timeout\n",
      "  File \"D:\\ProgramData\\Anaconda3\\lib\\site-packages\\linebot\\api.py\", line 1269, in _post\n",
      "    self.__check_error(response)\n",
      "  File \"D:\\ProgramData\\Anaconda3\\lib\\site-packages\\linebot\\api.py\", line 1310, in __check_error\n",
      "    error=Error.new_from_json_dict(response.json)\n",
      "linebot.exceptions.LineBotApiError: LineBotApiError: status_code=400, request_id=cb660e02-7078-4691-91cf-6a5e1f57edf7, error_response={\"details\": [], \"message\": \"Invalid reply token\"}, headers={'Server': 'openresty', 'Content-Type': 'application/json', 'x-line-request-id': 'cb660e02-7078-4691-91cf-6a5e1f57edf7', 'x-content-type-options': 'nosniff', 'x-xss-protection': '1; mode=block', 'x-frame-options': 'DENY', 'Content-Length': '33', 'Expires': 'Sun, 11 Apr 2021 09:25:07 GMT', 'Cache-Control': 'max-age=0, no-cache, no-store', 'Pragma': 'no-cache', 'Date': 'Sun, 11 Apr 2021 09:25:07 GMT', 'Connection': 'close'}\n",
      "127.0.0.1 - - [11/Apr/2021 17:25:07] \"\u001b[35m\u001b[1mPOST /callback HTTP/1.1\u001b[0m\" 500 -\n"
     ]
    },
    {
     "name": "stdout",
     "output_type": "stream",
     "text": [
      "body: {\"events\":[{\"type\":\"message\",\"replyToken\":\"9d3c519e77044080a159d36953e588d7\",\"source\":{\"userId\":\"Ub48cc7d7b61198bd5271236b99d2c30f\",\"type\":\"user\"},\"timestamp\":1618133109103,\"mode\":\"active\",\"message\":{\"type\":\"text\",\"id\":\"13871353041435\",\"text\":\"下午\"}}],\"destination\":\"U2f7ba918a6523b0e2acd7dee8833d56b\"}\n",
      "signature: xm5KqBfVS/bVfpCxTsa1vJ6eNEznqsTMFJw9xYFuNr0=\n",
      "===\n",
      "chat_record: ['澎湖', '板橋', '高鐵', '明天', '下午']\n"
     ]
    },
    {
     "name": "stderr",
     "output_type": "stream",
     "text": [
      "[2021-04-11 17:25:10,523] ERROR in app: Exception on /callback [POST]\n",
      "Traceback (most recent call last):\n",
      "  File \"D:\\ProgramData\\Anaconda3\\lib\\site-packages\\flask\\app.py\", line 2447, in wsgi_app\n",
      "    response = self.full_dispatch_request()\n",
      "  File \"D:\\ProgramData\\Anaconda3\\lib\\site-packages\\flask\\app.py\", line 1952, in full_dispatch_request\n",
      "    rv = self.handle_user_exception(e)\n",
      "  File \"D:\\ProgramData\\Anaconda3\\lib\\site-packages\\flask\\app.py\", line 1821, in handle_user_exception\n",
      "    reraise(exc_type, exc_value, tb)\n",
      "  File \"D:\\ProgramData\\Anaconda3\\lib\\site-packages\\flask\\_compat.py\", line 39, in reraise\n",
      "    raise value\n",
      "  File \"D:\\ProgramData\\Anaconda3\\lib\\site-packages\\flask\\app.py\", line 1950, in full_dispatch_request\n",
      "    rv = self.dispatch_request()\n",
      "  File \"D:\\ProgramData\\Anaconda3\\lib\\site-packages\\flask\\app.py\", line 1936, in dispatch_request\n",
      "    return self.view_functions[rule.endpoint](**req.view_args)\n",
      "  File \"<ipython-input-6-04d999ef4ece>\", line 39, in callback\n",
      "    handler.handle(body, signature)\n",
      "  File \"D:\\ProgramData\\Anaconda3\\lib\\site-packages\\linebot\\webhook.py\", line 260, in handle\n",
      "    self.__invoke_func(func, event, payload)\n",
      "  File \"D:\\ProgramData\\Anaconda3\\lib\\site-packages\\linebot\\webhook.py\", line 272, in __invoke_func\n",
      "    func(event)\n",
      "  File \"<ipython-input-6-04d999ef4ece>\", line 87, in get_response\n",
      "    line_bot_api.reply_message(event.reply_token, TextSendMessage(text=\"不論你說什麼 我都回你好!\"))\n",
      "  File \"D:\\ProgramData\\Anaconda3\\lib\\site-packages\\linebot\\api.py\", line 109, in reply_message\n",
      "    '/v2/bot/message/reply', data=json.dumps(data), timeout=timeout\n",
      "  File \"D:\\ProgramData\\Anaconda3\\lib\\site-packages\\linebot\\api.py\", line 1269, in _post\n",
      "    self.__check_error(response)\n",
      "  File \"D:\\ProgramData\\Anaconda3\\lib\\site-packages\\linebot\\api.py\", line 1310, in __check_error\n",
      "    error=Error.new_from_json_dict(response.json)\n",
      "linebot.exceptions.LineBotApiError: LineBotApiError: status_code=400, request_id=cc1213f6-b25c-45ae-84a4-5ededddedcd7, error_response={\"details\": [], \"message\": \"Invalid reply token\"}, headers={'Server': 'openresty', 'Content-Type': 'application/json', 'x-line-request-id': 'cc1213f6-b25c-45ae-84a4-5ededddedcd7', 'x-content-type-options': 'nosniff', 'x-xss-protection': '1; mode=block', 'x-frame-options': 'DENY', 'Content-Length': '33', 'Expires': 'Sun, 11 Apr 2021 09:25:10 GMT', 'Cache-Control': 'max-age=0, no-cache, no-store', 'Pragma': 'no-cache', 'Date': 'Sun, 11 Apr 2021 09:25:10 GMT', 'Connection': 'close'}\n",
      "127.0.0.1 - - [11/Apr/2021 17:25:10] \"\u001b[35m\u001b[1mPOST /callback HTTP/1.1\u001b[0m\" 500 -\n"
     ]
    },
    {
     "name": "stdout",
     "output_type": "stream",
     "text": [
      "body: {\"events\":[{\"type\":\"message\",\"replyToken\":\"54116959c02745f291f39f6c9c8debd6\",\"source\":{\"userId\":\"Ub48cc7d7b61198bd5271236b99d2c30f\",\"type\":\"user\"},\"timestamp\":1618133112350,\"mode\":\"active\",\"message\":{\"type\":\"text\",\"id\":\"13871353254127\",\"text\":\"板橋\"}}],\"destination\":\"U2f7ba918a6523b0e2acd7dee8833d56b\"}\n",
      "signature: LTcQDaRf05Mqnkyu4o27Kyg1SeruKarLwdpeNXgxKZU=\n",
      "===\n",
      "chat_record: ['板橋', '高鐵', '明天', '下午', '板橋']\n"
     ]
    },
    {
     "name": "stderr",
     "output_type": "stream",
     "text": [
      "[2021-04-11 17:25:13,314] ERROR in app: Exception on /callback [POST]\n",
      "Traceback (most recent call last):\n",
      "  File \"D:\\ProgramData\\Anaconda3\\lib\\site-packages\\flask\\app.py\", line 2447, in wsgi_app\n",
      "    response = self.full_dispatch_request()\n",
      "  File \"D:\\ProgramData\\Anaconda3\\lib\\site-packages\\flask\\app.py\", line 1952, in full_dispatch_request\n",
      "    rv = self.handle_user_exception(e)\n",
      "  File \"D:\\ProgramData\\Anaconda3\\lib\\site-packages\\flask\\app.py\", line 1821, in handle_user_exception\n",
      "    reraise(exc_type, exc_value, tb)\n",
      "  File \"D:\\ProgramData\\Anaconda3\\lib\\site-packages\\flask\\_compat.py\", line 39, in reraise\n",
      "    raise value\n",
      "  File \"D:\\ProgramData\\Anaconda3\\lib\\site-packages\\flask\\app.py\", line 1950, in full_dispatch_request\n",
      "    rv = self.dispatch_request()\n",
      "  File \"D:\\ProgramData\\Anaconda3\\lib\\site-packages\\flask\\app.py\", line 1936, in dispatch_request\n",
      "    return self.view_functions[rule.endpoint](**req.view_args)\n",
      "  File \"<ipython-input-6-04d999ef4ece>\", line 39, in callback\n",
      "    handler.handle(body, signature)\n",
      "  File \"D:\\ProgramData\\Anaconda3\\lib\\site-packages\\linebot\\webhook.py\", line 260, in handle\n",
      "    self.__invoke_func(func, event, payload)\n",
      "  File \"D:\\ProgramData\\Anaconda3\\lib\\site-packages\\linebot\\webhook.py\", line 272, in __invoke_func\n",
      "    func(event)\n",
      "  File \"<ipython-input-6-04d999ef4ece>\", line 87, in get_response\n",
      "    line_bot_api.reply_message(event.reply_token, TextSendMessage(text=\"不論你說什麼 我都回你好!\"))\n",
      "  File \"D:\\ProgramData\\Anaconda3\\lib\\site-packages\\linebot\\api.py\", line 109, in reply_message\n",
      "    '/v2/bot/message/reply', data=json.dumps(data), timeout=timeout\n",
      "  File \"D:\\ProgramData\\Anaconda3\\lib\\site-packages\\linebot\\api.py\", line 1269, in _post\n",
      "    self.__check_error(response)\n",
      "  File \"D:\\ProgramData\\Anaconda3\\lib\\site-packages\\linebot\\api.py\", line 1310, in __check_error\n",
      "    error=Error.new_from_json_dict(response.json)\n",
      "linebot.exceptions.LineBotApiError: LineBotApiError: status_code=400, request_id=1bf6616b-d7f3-4249-99f2-ecee36336618, error_response={\"details\": [], \"message\": \"Invalid reply token\"}, headers={'Server': 'openresty', 'Content-Type': 'application/json', 'x-line-request-id': '1bf6616b-d7f3-4249-99f2-ecee36336618', 'x-content-type-options': 'nosniff', 'x-xss-protection': '1; mode=block', 'x-frame-options': 'DENY', 'Expires': 'Sun, 11 Apr 2021 09:25:13 GMT', 'Cache-Control': 'max-age=0, no-cache, no-store', 'Pragma': 'no-cache', 'Date': 'Sun, 11 Apr 2021 09:25:13 GMT', 'Connection': 'close'}\n",
      "127.0.0.1 - - [11/Apr/2021 17:25:13] \"\u001b[35m\u001b[1mPOST /callback HTTP/1.1\u001b[0m\" 500 -\n"
     ]
    },
    {
     "name": "stdout",
     "output_type": "stream",
     "text": [
      "body: {\"events\":[{\"type\":\"message\",\"replyToken\":\"3adfa7a48a1540dfa5e86da29527d2dd\",\"source\":{\"userId\":\"Ub48cc7d7b61198bd5271236b99d2c30f\",\"type\":\"user\"},\"timestamp\":1618133114712,\"mode\":\"active\",\"message\":{\"type\":\"text\",\"id\":\"13871353411117\",\"text\":\"苗栗\"}}],\"destination\":\"U2f7ba918a6523b0e2acd7dee8833d56b\"}\n",
      "signature: mdMAGTtiLIh0OBMg9Die/lPAviloIkzHc8wnE4YU8Wk=\n",
      "===\n",
      "chat_record: ['高鐵', '明天', '下午', '板橋', '苗栗']\n"
     ]
    },
    {
     "name": "stderr",
     "output_type": "stream",
     "text": [
      "[2021-04-11 17:25:16,286] ERROR in app: Exception on /callback [POST]\n",
      "Traceback (most recent call last):\n",
      "  File \"D:\\ProgramData\\Anaconda3\\lib\\site-packages\\flask\\app.py\", line 2447, in wsgi_app\n",
      "    response = self.full_dispatch_request()\n",
      "  File \"D:\\ProgramData\\Anaconda3\\lib\\site-packages\\flask\\app.py\", line 1952, in full_dispatch_request\n",
      "    rv = self.handle_user_exception(e)\n",
      "  File \"D:\\ProgramData\\Anaconda3\\lib\\site-packages\\flask\\app.py\", line 1821, in handle_user_exception\n",
      "    reraise(exc_type, exc_value, tb)\n",
      "  File \"D:\\ProgramData\\Anaconda3\\lib\\site-packages\\flask\\_compat.py\", line 39, in reraise\n",
      "    raise value\n",
      "  File \"D:\\ProgramData\\Anaconda3\\lib\\site-packages\\flask\\app.py\", line 1950, in full_dispatch_request\n",
      "    rv = self.dispatch_request()\n",
      "  File \"D:\\ProgramData\\Anaconda3\\lib\\site-packages\\flask\\app.py\", line 1936, in dispatch_request\n",
      "    return self.view_functions[rule.endpoint](**req.view_args)\n",
      "  File \"<ipython-input-6-04d999ef4ece>\", line 39, in callback\n",
      "    handler.handle(body, signature)\n",
      "  File \"D:\\ProgramData\\Anaconda3\\lib\\site-packages\\linebot\\webhook.py\", line 260, in handle\n",
      "    self.__invoke_func(func, event, payload)\n",
      "  File \"D:\\ProgramData\\Anaconda3\\lib\\site-packages\\linebot\\webhook.py\", line 272, in __invoke_func\n",
      "    func(event)\n",
      "  File \"<ipython-input-6-04d999ef4ece>\", line 87, in get_response\n",
      "    line_bot_api.reply_message(event.reply_token, TextSendMessage(text=\"不論你說什麼 我都回你好!\"))\n",
      "  File \"D:\\ProgramData\\Anaconda3\\lib\\site-packages\\linebot\\api.py\", line 109, in reply_message\n",
      "    '/v2/bot/message/reply', data=json.dumps(data), timeout=timeout\n",
      "  File \"D:\\ProgramData\\Anaconda3\\lib\\site-packages\\linebot\\api.py\", line 1269, in _post\n",
      "    self.__check_error(response)\n",
      "  File \"D:\\ProgramData\\Anaconda3\\lib\\site-packages\\linebot\\api.py\", line 1310, in __check_error\n",
      "    error=Error.new_from_json_dict(response.json)\n",
      "linebot.exceptions.LineBotApiError: LineBotApiError: status_code=400, request_id=113b4237-1af1-4f23-a1fd-d8918048aa29, error_response={\"details\": [], \"message\": \"Invalid reply token\"}, headers={'Server': 'openresty', 'Content-Type': 'application/json', 'x-line-request-id': '113b4237-1af1-4f23-a1fd-d8918048aa29', 'x-content-type-options': 'nosniff', 'x-xss-protection': '1; mode=block', 'x-frame-options': 'DENY', 'Content-Length': '33', 'Expires': 'Sun, 11 Apr 2021 09:25:16 GMT', 'Cache-Control': 'max-age=0, no-cache, no-store', 'Pragma': 'no-cache', 'Date': 'Sun, 11 Apr 2021 09:25:16 GMT', 'Connection': 'close'}\n",
      "127.0.0.1 - - [11/Apr/2021 17:25:16] \"\u001b[35m\u001b[1mPOST /callback HTTP/1.1\u001b[0m\" 500 -\n"
     ]
    }
   ],
   "source": [
    "from __future__ import unicode_literals\n",
    "import os, requests, json, configparser\n",
    "from flask import Flask, request, abort\n",
    "from linebot import LineBotApi, WebhookHandler\n",
    "from linebot.exceptions import InvalidSignatureError\n",
    "from linebot.models import *\n",
    "\n",
    "import stock_utils as Stock\n",
    "import thsr_utils as Thsr\n",
    "thsr = Thsr.ThsrModule()\n",
    "\n",
    "chat_record = []\n",
    "thsr_res = {\"starting\":\"\", \"ending\":\"\", \"date\":\"\", \"ampm\":\"\"}\n",
    "station_names = Thsr.station_name\n",
    "date_keys = Thsr.date_key\n",
    "ampm_keys = Thsr.ampm_key\n",
    "\n",
    "\n",
    "app = Flask(__name__)\n",
    "\n",
    "# LINE 聊天機器人的基本資料\n",
    "config = configparser.ConfigParser()\n",
    "config.read('config.ini')\n",
    "\n",
    "line_bot_api = LineBotApi(config.get('line-bot', 'channel_access_token'))\n",
    "handler = WebhookHandler(config.get('line-bot', 'channel_secret'))\n",
    "\n",
    "# 接收 LINE 資訊\n",
    "@app.route(\"/callback\", methods=['POST'])\n",
    "def callback():\n",
    "    signature = request.headers['X-Line-Signature']\n",
    "    body = request.get_data(as_text=True)\n",
    "    app.logger.info(\"Request body: \" + body)\n",
    "\n",
    "    try:\n",
    "        print(\"body:\",body)\n",
    "        print(\"signature:\", signature)\n",
    "        print(\"===\")\n",
    "        handler.handle(body, signature)\n",
    "    except InvalidSignatureError:\n",
    "        abort(400)\n",
    "    return 'OK'\n",
    "\n",
    "# 回覆設定 (加入高鐵API多輪對話)\n",
    "@handler.add(MessageEvent, message=TextMessage)\n",
    "def get_response(event):\n",
    "    query = event.message.text       \n",
    "    \n",
    "    if len(chat_record) < 5:\n",
    "        chat_record.append(query)\n",
    "    else:\n",
    "        chat_record.pop(0)\n",
    "        chat_record.append(query)\n",
    "    print(\"chat_record:\",chat_record)\n",
    "\n",
    "\n",
    "    # 判斷是否為\"高鐵查詢意圖\"\n",
    "    if query == \"高鐵\":\n",
    "        line_bot_api.reply_message(event.reply_token, TextSendMessage(text=\"哪一天出發?\"))\n",
    "    try:\n",
    "        if chat_record[-2] == \"高鐵\" and any(chat_record[-1] == i for i in date_keys):\n",
    "            date_format = thsr.get_date_string_today(chat_record[-1])\n",
    "            thsr_res['date'] = date_format\n",
    "            line_bot_api.reply_message(event.reply_token, TextSendMessage(text=\"上午還是下午的車?\"))\n",
    "\n",
    "        elif any(chat_record[-2] == i for i in date_keys) and any(chat_record[-1] == i for i in ampm_keys):\n",
    "            thsr_res['ampm'] = chat_record[-1]\n",
    "            line_bot_api.reply_message(event.reply_token, TextSendMessage(text=\"起站是哪裡呢?\"))\n",
    "\n",
    "        elif any(chat_record[-2] == i for i in ampm_keys) and any(chat_record[-1] == i for i in station_names):\n",
    "            startind_id = Thsr.station_id[chat_record[-1]]\n",
    "            thsr_res['starting'] = startind_id\n",
    "            line_bot_api.reply_message(event.reply_token, TextSendMessage(text=\"終點站是哪裡呢?\"))\n",
    "\n",
    "        elif any(chat_record[-2] == i for i in station_names) and any(chat_record[-1] == i for i in station_names):\n",
    "            ending_id = Thsr.station_id[chat_record[-1]]\n",
    "            thsr_res['ending'] = ending_id\n",
    "\n",
    "            # print(\"***\",thsr_res['starting'],thsr_res['ending'],thsr_res['date'],thsr_res['ampm'])\n",
    "            text = thsr.get_runs(thsr_res['starting'],thsr_res['ending'],thsr_res['date'],thsr_res['ampm'])\n",
    "            line_bot_api.reply_message(event.reply_token, TextSendMessage(text=text))\n",
    "\n",
    "    except IndexError:\n",
    "        pass\n",
    "    \n",
    "         \n",
    "    line_bot_api.reply_message(event.reply_token, TextSendMessage(text=\"不論你說什麼 我都回你好!\"))\n",
    "\n",
    "if __name__ == \"__main__\":\n",
    "    app.run()"
   ]
  },
  {
   "cell_type": "code",
   "execution_count": null,
   "metadata": {},
   "outputs": [],
   "source": []
  }
 ],
 "metadata": {
  "colab": {
   "name": "rule-based chatbot_多輪(範例).ipynb",
   "provenance": []
  },
  "kernelspec": {
   "display_name": "Python 3",
   "language": "python",
   "name": "python3"
  },
  "language_info": {
   "codemirror_mode": {
    "name": "ipython",
    "version": 3
   },
   "file_extension": ".py",
   "mimetype": "text/x-python",
   "name": "python",
   "nbconvert_exporter": "python",
   "pygments_lexer": "ipython3",
   "version": "3.7.10"
  }
 },
 "nbformat": 4,
 "nbformat_minor": 4
}
