{
 "cells": [
  {
   "cell_type": "markdown",
   "metadata": {},
   "source": [
    "# 2.Linebot設計"
   ]
  },
  {
   "cell_type": "code",
   "execution_count": null,
   "metadata": {},
   "outputs": [],
   "source": [
    "# 請將 \"get_response(event)\" 的程式碼修改如下\n",
    "@handler.add(MessageEvent, message=TextMessage)\n",
    "def get_response(event):\n",
    "    query = event.message.text\n",
    "    \n",
    "    sens = [\"身高\",\"體重\",\"年齡\",\"收入\"]\n",
    "    if any(s in query for s in sens):\n",
    "        line_bot_api.reply_message(event.reply_token,StickerSendMessage(package_id=2, sticker_id=149))\n",
    "    else:\n",
    "        line_bot_api.reply_message(event.reply_token, TextSendMessage(text=\"不論你說什麼 我都回你好!\"))"
   ]
  },
  {
   "cell_type": "code",
   "execution_count": null,
   "metadata": {},
   "outputs": [],
   "source": [
    "# 其他回覆類型請參考 => https://ithelp.ithome.com.tw/articles/10195531"
   ]
  },
  {
   "cell_type": "markdown",
   "metadata": {},
   "source": [
    "# 3.以Python實現多輪對話"
   ]
  },
  {
   "cell_type": "code",
   "execution_count": null,
   "metadata": {},
   "outputs": [],
   "source": [
    "# step 1: 請參考 stock_utils.py 完成函式"
   ]
  },
  {
   "cell_type": "code",
   "execution_count": null,
   "metadata": {},
   "outputs": [],
   "source": [
    "# step 2: 請將 \"3-2.建立多輪判斷邏輯\" 的程式碼修改如下"
   ]
  },
  {
   "cell_type": "code",
   "execution_count": null,
   "metadata": {},
   "outputs": [],
   "source": [
    "from __future__ import unicode_literals\n",
    "import os, requests, json, configparser\n",
    "from flask import Flask, request, abort\n",
    "from linebot import LineBotApi, WebhookHandler\n",
    "from linebot.exceptions import InvalidSignatureError\n",
    "from linebot.models import *\n",
    "\n",
    "import stock_utils as Stock\n",
    "import thsr_utils as Thsr\n",
    "thsr = Thsr.ThsrModule()\n",
    "\n",
    "chat_record = []\n",
    "thsr_res = {\"starting\":\"\", \"ending\":\"\", \"date\":\"\", \"ampm\":\"\"}\n",
    "station_names = Thsr.station_name\n",
    "date_keys = Thsr.date_key\n",
    "ampm_keys = Thsr.ampm_key\n",
    "\n",
    "\n",
    "app = Flask(__name__)\n",
    "\n",
    "# LINE 聊天機器人的基本資料\n",
    "config = configparser.ConfigParser()\n",
    "config.read('cupoy_config.ini')\n",
    "\n",
    "line_bot_api = LineBotApi(config.get('line-bot', 'channel_access_token'))\n",
    "handler = WebhookHandler(config.get('line-bot', 'channel_secret'))\n",
    "\n",
    "# 接收 LINE 資訊\n",
    "@app.route(\"/callback\", methods=['POST'])\n",
    "def callback():\n",
    "    signature = request.headers['X-Line-Signature']\n",
    "    body = request.get_data(as_text=True)\n",
    "    app.logger.info(\"Request body: \" + body)\n",
    "\n",
    "    try:\n",
    "        print(\"body:\",body)\n",
    "        print(\"signature:\", signature)\n",
    "        print(\"===\")\n",
    "        handler.handle(body, signature)\n",
    "    except InvalidSignatureError:\n",
    "        abort(400)\n",
    "    return 'OK'\n",
    "\n",
    "# 回覆設定 (加入高鐵API多輪對話)\n",
    "@handler.add(MessageEvent, message=TextMessage)\n",
    "def get_response(event):\n",
    "    query = event.message.text       \n",
    "    \n",
    "    if len(chat_record) < 5:\n",
    "        chat_record.append(query)\n",
    "    else:\n",
    "        chat_record.pop(0)\n",
    "        chat_record.append(query)\n",
    "    print(\"chat_record:\",chat_record)\n",
    "\n",
    "\n",
    "    # 判斷是否為\"高鐵查詢意圖\"\n",
    "    if query == \"高鐵\":\n",
    "        line_bot_api.reply_message(event.reply_token, TextSendMessage(text=\"哪一天出發?\"))\n",
    "    try:\n",
    "        if chat_record[-2] == \"高鐵\" and any(chat_record[-1] == i for i in date_keys):\n",
    "            date_format = thsr.get_date_string_today(chat_record[-1])\n",
    "            thsr_res['date'] = date_format\n",
    "            line_bot_api.reply_message(event.reply_token, TextSendMessage(text=\"上午還是下午的車?\"))\n",
    "\n",
    "        elif any(chat_record[-2] == i for i in date_keys) and any(chat_record[-1] == i for i in ampm_keys):\n",
    "            thsr_res['ampm'] = chat_record[-1]\n",
    "            line_bot_api.reply_message(event.reply_token, TextSendMessage(text=\"起站是哪裡呢?\"))\n",
    "\n",
    "        elif any(chat_record[-2] == i for i in ampm_keys) and any(chat_record[-1] == i for i in station_names):\n",
    "            startind_id = Thsr.station_id[chat_record[-1]]\n",
    "            thsr_res['starting'] = startind_id\n",
    "            line_bot_api.reply_message(event.reply_token, TextSendMessage(text=\"終點站是哪裡呢?\"))\n",
    "\n",
    "        elif any(chat_record[-2] == i for i in station_names) and any(chat_record[-1] == i for i in station_names):\n",
    "            ending_id = Thsr.station_id[chat_record[-1]]\n",
    "            thsr_res['ending'] = ending_id\n",
    "\n",
    "            # print(\"***\",thsr_res['starting'],thsr_res['ending'],thsr_res['date'],thsr_res['ampm'])\n",
    "            text = thsr.get_runs(thsr_res['starting'],thsr_res['ending'],thsr_res['date'],thsr_res['ampm'])\n",
    "            line_bot_api.reply_message(event.reply_token, TextSendMessage(text=text))\n",
    "\n",
    "    except IndexError:\n",
    "        pass\n",
    "    \n",
    "    \n",
    "    # 判斷是否為\"股價詢問意圖\"\n",
    "    try:\n",
    "        # 取得股票dict\n",
    "        ss = Stock.stock_symbol\n",
    "\n",
    "        # 若股票名稱 = query ...\n",
    "        if any(sk == query for sk in list(ss.keys())):\n",
    "            stock_symbol = ss[query]\n",
    "            stock_data = Stock.get_stockdata(stock_symbol, \"2020-12-01\", \"2020-12-10\")\n",
    "            stock_info = Stock.get_stockinfo(query, stock_data, \"Close\")\n",
    "            line_bot_api.reply_message(event.reply_token, TextSendMessage(text=stock_info))\n",
    "\n",
    "    except:\n",
    "        pass\n",
    "      \n",
    "    \n",
    "    line_bot_api.reply_message(event.reply_token, TextSendMessage(text=\"不論你說什麼 我都回你好!\"))\n",
    "\n",
    "if __name__ == \"__main__\":\n",
    "    app.run()"
   ]
  }
 ],
 "metadata": {
  "kernelspec": {
   "display_name": "Python 3",
   "language": "python",
   "name": "python3"
  },
  "language_info": {
   "codemirror_mode": {
    "name": "ipython",
    "version": 3
   },
   "file_extension": ".py",
   "mimetype": "text/x-python",
   "name": "python",
   "nbconvert_exporter": "python",
   "pygments_lexer": "ipython3",
   "version": "3.6.7"
  }
 },
 "nbformat": 4,
 "nbformat_minor": 2
}
