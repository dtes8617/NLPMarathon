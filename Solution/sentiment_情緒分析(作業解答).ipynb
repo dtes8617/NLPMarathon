{
  "nbformat": 4,
  "nbformat_minor": 0,
  "metadata": {
    "colab": {
      "name": "sentiment_情緒分析(作業解答).ipynb",
      "provenance": []
    },
    "kernelspec": {
      "name": "python3",
      "display_name": "Python 3"
    }
  },
  "cells": [
    {
      "cell_type": "code",
      "metadata": {
        "id": "Tz1j2Y5KO5uY"
      },
      "source": [
        "from __future__ import print_function, division\n",
        "from future.utils import iteritems\n",
        "from builtins import range\n",
        "\n",
        "\n",
        "\n",
        "import nltk\n",
        "import numpy as np\n",
        "from sklearn.utils import shuffle\n",
        "\n",
        "from nltk.stem import WordNetLemmatizer\n",
        "from sklearn.linear_model import LogisticRegression\n",
        "from bs4 import BeautifulSoup"
      ],
      "execution_count": 1,
      "outputs": []
    },
    {
      "cell_type": "code",
      "metadata": {
        "id": "_vTt2ImVPEj1"
      },
      "source": [
        "wordnet_lemmatizer = WordNetLemmatizer()\n",
        "\n",
        "# from http://www.lextek.com/manuals/onix/stopwords1.html\n",
        "stopwords = set(w.rstrip() for w in open('./sample_data/stopwords.txt'))\n",
        "\n",
        "# 另一個 stopwords 的來源\n",
        "# from nltk.corpus import stopwords\n",
        "# stopwords.words('english')\n",
        "\n",
        "# 讀正向與負向 reviews\n",
        "# data courtesy of http://www.cs.jhu.edu/~mdredze/datasets/sentiment/index2.html\n",
        "positive_reviews = BeautifulSoup(open('./sample_data/electronics/positive.review', encoding='utf-8').read(), features=\"html5lib\")\n",
        "positive_reviews = positive_reviews.findAll('review_text')\n",
        "\n",
        "negative_reviews = BeautifulSoup(open('./sample_data/electronics/negative.review', encoding='utf-8').read(), features=\"html5lib\")\n",
        "negative_reviews = negative_reviews.findAll('review_text')\n",
        "\n"
      ],
      "execution_count": 3,
      "outputs": []
    },
    {
      "cell_type": "code",
      "metadata": {
        "id": "MWP-vMLuPI_D",
        "outputId": "8363c531-6fe8-46c2-b632-d8185ea47cbb",
        "colab": {
          "base_uri": "https://localhost:8080/"
        }
      },
      "source": [
        "# 基於nltk自建 tokenizer\n",
        "# 下載以下corpus\n",
        "nltk.download('punkt')\n",
        "nltk.download('wordnet')\n",
        "\n",
        "def my_tokenizer(s):\n",
        "    s = s.lower() # downcase\n",
        "    tokens = nltk.tokenize.word_tokenize(s) # 將字串改為tokens\n",
        "    tokens = [t for t in tokens if len(t) > 2] # 去除短字\n",
        "    tokens = [wordnet_lemmatizer.lemmatize(t) for t in tokens] # 去除大小寫\n",
        "    tokens = [t for t in tokens if t not in stopwords] # 去除 stopwords\n",
        "    return tokens\n",
        "\n",
        "\n",
        "# 先產生 word-to-index map 再產生 word-frequency vectors\n",
        "# 同時儲存 tokenized 版本未來不需再做 tokenization\n",
        "word_index_map = {}\n",
        "current_index = 0\n",
        "positive_tokenized = []\n",
        "negative_tokenized = []\n",
        "orig_reviews = []\n",
        "\n",
        "for review in positive_reviews:\n",
        "    orig_reviews.append(review.text)\n",
        "    tokens = my_tokenizer(review.text)\n",
        "    positive_tokenized.append(tokens)\n",
        "    for token in tokens:\n",
        "        if token not in word_index_map:\n",
        "            word_index_map[token] = current_index\n",
        "            current_index += 1\n",
        "\n",
        "for review in negative_reviews:\n",
        "    orig_reviews.append(review.text)\n",
        "    tokens = my_tokenizer(review.text)\n",
        "    negative_tokenized.append(tokens)\n",
        "    for token in tokens:\n",
        "        if token not in word_index_map:\n",
        "            word_index_map[token] = current_index\n",
        "            current_index += 1\n",
        "\n",
        "print(\"len(word_index_map):\", len(word_index_map))\n"
      ],
      "execution_count": 6,
      "outputs": [
        {
          "output_type": "stream",
          "text": [
            "[nltk_data] Downloading package punkt to /root/nltk_data...\n",
            "[nltk_data]   Package punkt is already up-to-date!\n",
            "[nltk_data] Downloading package wordnet to /root/nltk_data...\n",
            "[nltk_data]   Unzipping corpora/wordnet.zip.\n",
            "len(word_index_map): 11092\n"
          ],
          "name": "stdout"
        }
      ]
    },
    {
      "cell_type": "code",
      "metadata": {
        "id": "vyDetdhqOs2f",
        "outputId": "4165d946-f372-428f-81c0-0d138ecb601c",
        "colab": {
          "base_uri": "https://localhost:8080/"
        }
      },
      "source": [
        "\n",
        "\n",
        "\n",
        "\n",
        "\n",
        "\n",
        "\n",
        "# now let's create our input matrices\n",
        "def tokens_to_vector(tokens, label):\n",
        "    x = np.zeros(len(word_index_map) + 1) # 最後一個元素是標記\n",
        "    for t in tokens:\n",
        "        i = word_index_map[t]\n",
        "        x[i] += 1\n",
        "    x = x / x.sum() # 正規化數據提升未來準確度\n",
        "    x[-1] = label\n",
        "    return x\n",
        "\n",
        "N = len(positive_tokenized) + len(negative_tokenized)\n",
        "# (N x D+1) 矩陣 - 擺在一塊將來便於shuffle\n",
        "data = np.zeros((N, len(word_index_map) + 1))\n",
        "i = 0\n",
        "for tokens in positive_tokenized:\n",
        "    xy = tokens_to_vector(tokens, 1)\n",
        "    data[i,:] = xy\n",
        "    i += 1\n",
        "\n",
        "for tokens in negative_tokenized:\n",
        "    xy = tokens_to_vector(tokens, 0)\n",
        "    data[i,:] = xy\n",
        "    i += 1\n",
        "\n",
        "# shuffle data 創造 train/test splits\n",
        "# 多次嘗試!\n",
        "orig_reviews, data = shuffle(orig_reviews, data)\n",
        "\n",
        "X = data[:,:-1]\n",
        "Y = data[:,-1]\n",
        "\n",
        "# 最後 100 列是測試用\n",
        "Xtrain = X[:-100,]\n",
        "Ytrain = Y[:-100,]\n",
        "Xtest = X[-100:,]\n",
        "Ytest = Y[-100:,]\n",
        "\n",
        "model = LogisticRegression()\n",
        "model.fit(Xtrain, Ytrain)\n",
        "print(\"Train accuracy:\", model.score(Xtrain, Ytrain))\n",
        "print(\"Test accuracy:\", model.score(Xtest, Ytest))\n",
        "\n",
        "\n"
      ],
      "execution_count": 7,
      "outputs": [
        {
          "output_type": "stream",
          "text": [
            "Train accuracy: 0.7821052631578947\n",
            "Test accuracy: 0.77\n"
          ],
          "name": "stdout"
        }
      ]
    },
    {
      "cell_type": "code",
      "metadata": {
        "id": "88FUGrBvPlj0",
        "outputId": "49b5e9ab-4c0f-4fe2-cb30-99d3c8e52668",
        "colab": {
          "base_uri": "https://localhost:8080/"
        }
      },
      "source": [
        "# 列出每個字的正負 weight\n",
        "# 用不同的 threshold values!\n",
        "threshold = 0.5\n",
        "for word, index in iteritems(word_index_map):\n",
        "    weight = model.coef_[0][index]\n",
        "    if weight > threshold or weight < -threshold:\n",
        "        print(word, weight)\n",
        "\n",
        "\n"
      ],
      "execution_count": 8,
      "outputs": [
        {
          "output_type": "stream",
          "text": [
            "unit -0.657920287385432\n",
            "bad -0.6777864566554157\n",
            "cable 0.6154184641203321\n",
            "time -0.7451216935377039\n",
            "'ve 0.7288060541405461\n",
            "month -0.7726288240999709\n",
            "pro 0.5121304548047545\n",
            "sound 0.9782461603020313\n",
            "lot 0.7015964767704644\n",
            "you 0.9024761439467388\n",
            "n't -1.8419761009334588\n",
            "easy 1.7525253022017302\n",
            "quality 1.4099280061013804\n",
            "company -0.5027219028379405\n",
            "card -0.537360446566969\n",
            "item -0.9762186368879061\n",
            "wa -1.7001713523202548\n",
            "perfect 1.013856178565779\n",
            "fast 0.9334180190618329\n",
            "ha 0.8510900182049708\n",
            "price 2.743317555875292\n",
            "value 0.5522450477244457\n",
            "money -0.9172146447872621\n",
            "memory 0.8670947558610484\n",
            "picture 0.5043088075229613\n",
            "buy -0.8567332849970681\n",
            "bit 0.6326850450864487\n",
            "happy 0.6354562279650408\n",
            "pretty 0.715643922087238\n",
            "doe -1.232198284392867\n",
            "highly 1.0028782444101596\n",
            "recommend 0.7076011556258108\n",
            "customer -0.6956379450344995\n",
            "support -0.9347310576790123\n",
            "little 0.9462827148122765\n",
            "returned -0.7588339354293295\n",
            "excellent 1.2838719386788173\n",
            "love 1.193827093302802\n",
            "week -0.6720545302490722\n",
            "using 0.6283204186258704\n",
            "laptop 0.5488397285501522\n",
            "poor -0.7254693110861519\n",
            "then -1.2052509357066696\n",
            "tried -0.827272404609071\n",
            "try -0.7008000220882935\n",
            "space 0.5373033549870987\n",
            "comfortable 0.6609177553240135\n",
            "expected 0.5911103608039837\n",
            "speaker 0.889302390004311\n",
            "warranty -0.6143671338709114\n",
            "junk -0.5295168213232703\n",
            "returning -0.5176936662719577\n",
            "paper 0.6365277314843042\n",
            "terrible -0.5101744786371903\n",
            "return -1.209319444330909\n",
            "waste -0.933700364298976\n",
            "refund -0.6780621905379249\n"
          ],
          "name": "stdout"
        }
      ]
    },
    {
      "cell_type": "code",
      "metadata": {
        "id": "elOjMnizPcv6",
        "outputId": "7fd505b2-9712-428e-c6dd-b2272a157551",
        "colab": {
          "base_uri": "https://localhost:8080/"
        }
      },
      "source": [
        "# 找出歸類錯誤的例子\n",
        "preds = model.predict(X)\n",
        "P = model.predict_proba(X)[:,1] # p(y = 1 | x)\n",
        "\n",
        "# 只列出最糟的\n",
        "minP_whenYis1 = 1\n",
        "maxP_whenYis0 = 0\n",
        "wrong_positive_review = None\n",
        "wrong_negative_review = None\n",
        "wrong_positive_prediction = None\n",
        "wrong_negative_prediction = None\n",
        "for i in range(N):\n",
        "    p = P[i]\n",
        "    y = Y[i]\n",
        "    if y == 1 and p < 0.5:\n",
        "        if p < minP_whenYis1:\n",
        "            wrong_positive_review = orig_reviews[i]\n",
        "            wrong_positive_prediction = preds[i]\n",
        "            minP_whenYis1 = p\n",
        "    elif y == 0 and p > 0.5:\n",
        "        if p > maxP_whenYis0:\n",
        "            wrong_negative_review = orig_reviews[i]\n",
        "            wrong_negative_prediction = preds[i]\n",
        "            maxP_whenYis0 = p\n",
        "\n",
        "print(\"Most wrong positive review (prob = %s, pred = %s):\" % (minP_whenYis1, wrong_positive_prediction))\n",
        "print(wrong_positive_review)\n",
        "print(\"Most wrong negative review (prob = %s, pred = %s):\" % (maxP_whenYis0, wrong_negative_prediction))\n",
        "print(wrong_negative_review)\n",
        "\n"
      ],
      "execution_count": 9,
      "outputs": [
        {
          "output_type": "stream",
          "text": [
            "Most wrong positive review (prob = 0.35531247094450574, pred = 0.0):\n",
            "\n",
            "A device like this either works or it doesn't.  This one happens to work\n",
            "\n",
            "Most wrong negative review (prob = 0.6011402141632183, pred = 1.0):\n",
            "\n",
            "The Voice recorder meets all my expectations and more\n",
            "Easy to use, easy to transfer great results\n",
            "\n"
          ],
          "name": "stdout"
        }
      ]
    }
  ]
}