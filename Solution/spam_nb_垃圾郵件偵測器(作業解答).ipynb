{
  "nbformat": 4,
  "nbformat_minor": 0,
  "metadata": {
    "colab": {
      "name": "spam_nb_垃圾郵件偵測器_習題解答.ipynb",
      "provenance": []
    },
    "kernelspec": {
      "name": "python3",
      "display_name": "Python 3"
    }
  },
  "cells": [
    {
      "cell_type": "code",
      "metadata": {
        "id": "v8kTUPx0FxZC"
      },
      "source": [
        "from __future__ import print_function, division\n",
        "from builtins import range\n",
        "\n",
        "import pandas as pd\n",
        "import numpy as np"
      ],
      "execution_count": 1,
      "outputs": []
    },
    {
      "cell_type": "code",
      "metadata": {
        "id": "Cr2Tsy5iF-ig"
      },
      "source": [
        "# 註: 理論上 multinomial NB 是針對出現次數 \"counts\", 但文件上說對出現比率 \"word proportions\"也適合\n",
        "\n",
        "data = pd.read_csv('./sample_data/spambase.data').values # use pandas for convenience\n",
        "np.random.shuffle(data) # shuffle each row in-place, but preserve the row\n",
        "\n",
        "X = data[:,:48]\n",
        "Y = data[:,-1]\n",
        "\n",
        "# 不一定用100列 作測試 100->80 試試\n",
        "Xtrain = X[:-80,]\n",
        "Ytrain = Y[:-80,]\n",
        "Xtest = X[-80:,]\n",
        "Ytest = Y[-80:,]"
      ],
      "execution_count": 4,
      "outputs": []
    },
    {
      "cell_type": "code",
      "metadata": {
        "id": "KtSCF-82GHRd",
        "outputId": "2e278714-2d1f-4e5b-969f-8313086cfdf6",
        "colab": {
          "base_uri": "https://localhost:8080/"
        }
      },
      "source": [
        "\n",
        "# 我們在習題中，先試Naive Bayes\n",
        "from sklearn.naive_bayes import MultinomialNB\n",
        "model = MultinomialNB()\n",
        "model.fit(Xtrain, Ytrain)\n",
        "print(\"Classification rate for NB:\", model.score(Xtest, Ytest))"
      ],
      "execution_count": 8,
      "outputs": [
        {
          "output_type": "stream",
          "text": [
            "Classification rate for NB: 0.925\n"
          ],
          "name": "stdout"
        }
      ]
    },
    {
      "cell_type": "code",
      "metadata": {
        "id": "LbamETjPFmOh",
        "outputId": "3a61d09a-ed90-4743-b912-62a378fdaff4",
        "colab": {
          "base_uri": "https://localhost:8080/"
        }
      },
      "source": [
        "\n",
        "\n",
        "# Decision Tree 的準確度如何？\n",
        "from sklearn.tree import DecisionTreeClassifier\n",
        "model = DecisionTreeClassifier()\n",
        "model.fit(Xtrain, Ytrain)\n",
        "print(\"Classification rate for Decision Tree:\", model.score(Xtest, Ytest))\n",
        "\n"
      ],
      "execution_count": 6,
      "outputs": [
        {
          "output_type": "stream",
          "text": [
            "Classification rate for Decision Tree: 0.9625\n"
          ],
          "name": "stdout"
        }
      ]
    },
    {
      "cell_type": "code",
      "metadata": {
        "id": "o4NlEJ0LGDsm",
        "outputId": "06fea177-2f4a-46df-fcc2-77925e5aafcb",
        "colab": {
          "base_uri": "https://localhost:8080/"
        }
      },
      "source": [
        "##### 任何 model都行，以下試試 AdaBoost! #####\n",
        "from sklearn.ensemble import AdaBoostClassifier\n",
        "model = AdaBoostClassifier()\n",
        "model.fit(Xtrain, Ytrain)\n",
        "print(\"Classification rate for AdaBoost:\", model.score(Xtest, Ytest))\n",
        "\n",
        "#####也可試試其他的\n",
        "## https://scikit-learn.org/stable/auto_examples/classification/plot_classifier_comparison.html\n"
      ],
      "execution_count": 7,
      "outputs": [
        {
          "output_type": "stream",
          "text": [
            "Classification rate for AdaBoost: 0.975\n"
          ],
          "name": "stdout"
        }
      ]
    }
  ]
}